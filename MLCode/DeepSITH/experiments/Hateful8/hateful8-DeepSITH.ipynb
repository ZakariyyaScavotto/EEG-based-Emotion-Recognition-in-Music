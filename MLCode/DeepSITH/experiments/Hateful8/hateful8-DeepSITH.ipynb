{
 "cells": [
  {
   "cell_type": "code",
   "execution_count": 14,
   "metadata": {
    "ExecuteTime": {
     "end_time": "2021-01-08T14:55:38.205983Z",
     "start_time": "2021-01-08T14:55:38.015102Z"
    }
   },
   "outputs": [],
   "source": [
    "%matplotlib inline"
   ]
  },
  {
   "cell_type": "code",
   "execution_count": 15,
   "metadata": {
    "ExecuteTime": {
     "end_time": "2021-01-08T14:55:38.860920Z",
     "start_time": "2021-01-08T14:55:38.352461Z"
    }
   },
   "outputs": [
    {
     "name": "stdout",
     "output_type": "stream",
     "text": [
      "<class 'torch.cuda.FloatTensor'>\n"
     ]
    }
   ],
   "source": [
    "import matplotlib.pyplot as plt\n",
    "import torch\n",
    "from torch import nn as nn\n",
    "from math import factorial\n",
    "import random\n",
    "import torch.nn.functional as F\n",
    "import numpy as np\n",
    "import seaborn as sn\n",
    "import pandas as pd\n",
    "import os \n",
    "from os.path import join\n",
    "import glob\n",
    "from math import factorial\n",
    "ttype = torch.cuda.FloatTensor if torch.cuda.is_available() else torch.FloatTensor\n",
    "ctype = torch.cuda.LongTensor if torch.cuda.is_available() else torch.LongTensor\n",
    "print(ttype)\n",
    "from torch.nn.utils import weight_norm\n",
    "from deepsith import DeepSITH\n",
    "from tqdm.notebook import tqdm\n",
    "import pickle\n",
    "sn.set_context(\"poster\")\n",
    "import itertools\n",
    "from csv import DictWriter\n",
    "import matplotlib.pylab as plt\n",
    "import csv\n",
    "import numpy as np\n",
    "import pandas as pd\n",
    "import os\n",
    "import seaborn as sn\n",
    "sn.set_context('talk')"
   ]
  },
  {
   "cell_type": "code",
   "execution_count": 16,
   "metadata": {
    "ExecuteTime": {
     "end_time": "2021-01-08T14:55:40.469488Z",
     "start_time": "2021-01-08T14:55:40.465485Z"
    }
   },
   "outputs": [],
   "source": [
    "def generate_noise(maxn=18):\n",
    "    \"\"\"Generates dot and dash based noise.\"\"\"\n",
    "    \n",
    "    threes = np.random.randint(int(.5*maxn), int(.75*maxn))\n",
    "    ones = (maxn - threes) * 2\n",
    "    noise = list(itertools.repeat([1,1,1,0], threes))\n",
    "    noise[:int(len(noise)/3)] = list(itertools.repeat([0,0], int(len(noise)/3)))\n",
    "    ones = ones + int(len(noise)/3)\n",
    "    noise.extend(list(itertools.repeat([1,0], ones)))\n",
    "    random.shuffle(noise)\n",
    "    noise = np.concatenate(noise)\n",
    "    return noise"
   ]
  },
  {
   "cell_type": "code",
   "execution_count": 17,
   "metadata": {
    "ExecuteTime": {
     "end_time": "2021-01-08T18:10:46.956642Z",
     "start_time": "2021-01-08T18:10:46.868324Z"
    }
   },
   "outputs": [
    {
     "name": "stdout",
     "output_type": "stream",
     "text": [
      "(400,)\n"
     ]
    },
    {
     "data": {
      "text/plain": [
       "[<matplotlib.lines.Line2D at 0x18c31975310>]"
      ]
     },
     "execution_count": 17,
     "metadata": {},
     "output_type": "execute_result"
    },
    {
     "data": {
      "image/png": "[encoded data removed]",
      "text/plain": [
       "<Figure size 432x288 with 1 Axes>"
      ]
     },
     "metadata": {
      "needs_background": "light"
     },
     "output_type": "display_data"
    }
   ],
   "source": [
    "noise = generate_noise(maxn=100)\n",
    "print(noise.shape)\n",
    "plt.plot(noise)"
   ]
  },
  {
   "cell_type": "code",
   "execution_count": 18,
   "metadata": {
    "ExecuteTime": {
     "end_time": "2021-01-08T18:08:04.191675Z",
     "start_time": "2021-01-08T18:08:04.183473Z"
    }
   },
   "outputs": [],
   "source": [
    "\n",
    "signals = ttype([[0,1,1,1,0,1,1,1,0,1,0,1,0,1,0,0,0],\n",
    "                 [0,1,1,1,0,1,0,1,1,1,0,1,0,1,0,0,0],\n",
    "                 [0,1,1,1,0,1,0,1,0,1,1,1,0,1,0,0,0],\n",
    "                 [0,1,1,1,0,1,0,1,0,1,0,1,1,1,0,0,0],\n",
    "                 [0,1,0,1,1,1,0,1,1,1,0,1,1,1,0,0,0],\n",
    "                 [0,1,1,1,0,1,0,1,1,1,0,1,1,1,0,0,0],\n",
    "                 [0,1,1,1,0,1,1,1,0,1,0,1,1,1,0,0,0],\n",
    "                 [0,1,1,1,0,1,1,1,0,1,1,1,0,1,0,0,0],\n",
    "                ]\n",
    "               ).view(8, 1, 1, -1)\n"
   ]
  },
  {
   "cell_type": "code",
   "execution_count": 19,
   "metadata": {
    "ExecuteTime": {
     "end_time": "2020-12-18T14:46:37.378520Z",
     "start_time": "2020-12-18T14:46:37.218400Z"
    }
   },
   "outputs": [],
   "source": [
    "torch.manual_seed(12345)\n",
    "np.random.seed(12345)\n",
    "training_samples = 32\n",
    "maxn=6\n",
    "training_signals = []\n",
    "training_class = []\n",
    "\n",
    "for i, sig in enumerate(signals):\n",
    "    temp_signals = []\n",
    "    temp_class = []\n",
    "    for x in range(training_samples):\n",
    "        noise = ttype(generate_noise(maxn))\n",
    "        temp = torch.cat([sig[0,0], noise]).unsqueeze(0).unsqueeze(0).unsqueeze(0)\n",
    "        c=0\n",
    "        while(any([(temp == c_).all() for c_ in temp_signals])):\n",
    "            noise = ttype(generate_noise(maxn))\n",
    "            temp = torch.cat([sig[0,0], noise]).unsqueeze(0).unsqueeze(0).unsqueeze(0)\n",
    "            c += 1\n",
    "            if c == 100:\n",
    "                1/0\n",
    "        temp_signals.append(temp)\n",
    "        temp_class.append(i)\n",
    "    training_signals.extend(temp_signals)\n",
    "    training_class.extend(temp_class)\n",
    "\n",
    "batch_rand = torch.randperm(training_samples*signals.shape[0])        \n",
    "training_signals = torch.cat(training_signals).cuda()[batch_rand]\n",
    "training_class  = ctype(training_class).cuda()[batch_rand]\n",
    "\n",
    "dataset = torch.utils.data.TensorDataset(training_signals, training_class)\n",
    "dataset = torch.utils.data.DataLoader(dataset, batch_size=32, shuffle=True)\n",
    "\n"
   ]
  },
  {
   "cell_type": "code",
   "execution_count": 20,
   "metadata": {
    "ExecuteTime": {
     "end_time": "2020-12-18T14:46:43.727565Z",
     "start_time": "2020-12-18T14:46:43.078028Z"
    }
   },
   "outputs": [
    {
     "name": "stdout",
     "output_type": "stream",
     "text": [
      "torch.Size([80, 1, 1, 41]) torch.Size([80])\n"
     ]
    }
   ],
   "source": [
    "testing_samples = 10\n",
    "testing_signals = []\n",
    "testing_class = []\n",
    "for i, sig in enumerate(signals):\n",
    "    temp_signals = []\n",
    "    temp_class = []\n",
    "    for x in range(testing_samples):\n",
    "        noise = ttype(generate_noise(maxn))\n",
    "        temp = torch.cat([sig[0,0], noise]).unsqueeze(0).unsqueeze(0).unsqueeze(0)\n",
    "        while(any([(temp == c_).all() for c_ in temp_signals]) or any([(temp == c_).all() for c_ in training_signals])):\n",
    "            noise = ttype(generate_noise(maxn))\n",
    "            temp = torch.cat([sig[0,0], noise]).unsqueeze(0).unsqueeze(0).unsqueeze(0)\n",
    "        temp_signals.append(temp)\n",
    "        temp_class.append(i)\n",
    "    testing_signals.extend(temp_signals)\n",
    "    testing_class.extend(temp_class)\n",
    "batch_rand = torch.randperm(testing_samples*signals.shape[0])\n",
    "\n",
    "testing_signals = torch.cat(testing_signals).cuda()[batch_rand]\n",
    "testing_class  = ctype(testing_class)[batch_rand]\n",
    "\n",
    "\n",
    "dataset_valid = torch.utils.data.TensorDataset(testing_signals, testing_class)\n",
    "dataset_valid = torch.utils.data.DataLoader(dataset_valid, batch_size=32, shuffle=False)\n",
    "\n",
    "print(testing_signals.shape, testing_class.shape)\n"
   ]
  },
  {
   "cell_type": "code",
   "execution_count": 21,
   "metadata": {
    "ExecuteTime": {
     "end_time": "2021-01-08T14:55:53.071364Z",
     "start_time": "2021-01-08T14:55:53.061375Z"
    }
   },
   "outputs": [],
   "source": [
    "def train(model, ttype, train_loader, test_loader, optimizer, loss_func, epoch, \n",
    "          permute=None, loss_buffer_size=64, batch_size=4, device='cuda',\n",
    "          prog_bar=None, maxn=6):\n",
    "    \n",
    "    assert(loss_buffer_size%batch_size==0)\n",
    "        \n",
    "    losses = []\n",
    "    perfs = []\n",
    "    last_test_perf = 0\n",
    "    best_test_perf = -1\n",
    "    \n",
    "    for batch_idx, (data, target) in enumerate(train_loader):\n",
    "        model.train()\n",
    "        data = data.to(device)\n",
    "        target = target.to(device)\n",
    "        optimizer.zero_grad()\n",
    "        out = model(data)\n",
    "        loss = loss_func(out[:, -1, :],\n",
    "                         target)\n",
    "\n",
    "        loss.backward()\n",
    "        optimizer.step()\n",
    "\n",
    "        perfs.append((torch.argmax(out[:, -1, :], dim=-1) == \n",
    "                      target).sum().item())\n",
    "        perfs = perfs[int(-loss_buffer_size/batch_size):]\n",
    "        losses.append(loss.detach().cpu().numpy())\n",
    "        losses = losses[int(-loss_buffer_size/batch_size):]\n",
    "        if not (prog_bar is None):\n",
    "            # Update progress_bar\n",
    "            s = \"{}:{} Loss: {:.4f}, perf: {:.4f}, valid: {:.4f}\"\n",
    "            format_list = [e,batch_idx*batch_size, np.mean(losses), \n",
    "                           np.sum(perfs)/((len(perfs))*batch_size), last_test_perf]         \n",
    "            s = s.format(*format_list)\n",
    "            prog_bar.set_description(s)\n",
    "        \n",
    "        if ((batch_idx*batch_size)%loss_buffer_size == 0) & (batch_idx != 0):\n",
    "            loss_track = {}\n",
    "            last_test_perf = test(model, 'cuda', test_loader, \n",
    "                                  batch_size=batch_size, \n",
    "                                  permute=permute)\n",
    "            loss_track['avg_loss'] = np.mean(losses)\n",
    "            loss_track['last_test'] = last_test_perf\n",
    "            loss_track['epoch'] = epoch\n",
    "            loss_track['batch_idx'] = batch_idx\n",
    "            loss_track['pres_num'] = batch_idx*batch_size + epoch*len(train_loader.dataset)\n",
    "            loss_track['maxn'] = maxn\n",
    "            loss_track['train_perf']= np.sum(perfs)/((len(perfs))*batch_size)\n",
    "\n",
    "                \n",
    "def test(model, device, test_loader, batch_size=4, permute=None):\n",
    "    model.eval()\n",
    "    correct = 0\n",
    "    count = 0\n",
    "    with torch.no_grad():\n",
    "        for data, target in test_loader:\n",
    "            data = data.to(device)\n",
    "            target = target.to(device)\n",
    "            \n",
    "            out = model(data)\n",
    "            pred = out[:, -1].argmax(dim=-1, keepdim=True)\n",
    "            correct += pred.eq(target.view_as(pred)).sum().item()\n",
    "            count += 1\n",
    "    return correct / len(test_loader.dataset)"
   ]
  },
  {
   "cell_type": "markdown",
   "metadata": {},
   "source": [
    "# Setup Classifier type model"
   ]
  },
  {
   "cell_type": "code",
   "execution_count": 22,
   "metadata": {
    "ExecuteTime": {
     "end_time": "2021-01-08T14:55:54.629703Z",
     "start_time": "2021-01-08T14:55:54.625268Z"
    }
   },
   "outputs": [],
   "source": [
    "class DeepSITH_Classifier(nn.Module):\n",
    "    def __init__(self, out_features, layer_params, dropout=.5):\n",
    "        super(DeepSITH_Classifier, self).__init__()\n",
    "        last_hidden = layer_params[-1]['hidden_size']\n",
    "        self.hs = DeepSITH(layer_params=layer_params, dropout=dropout)\n",
    "        self.to_out = nn.Linear(last_hidden, out_features)\n",
    "    def forward(self, inp):\n",
    "        x = self.hs(inp)\n",
    "        x = self.to_out(x)\n",
    "        return x"
   ]
  },
  {
   "cell_type": "markdown",
   "metadata": {},
   "source": [
    "# Training and testing"
   ]
  },
  {
   "cell_type": "code",
   "execution_count": 23,
   "metadata": {
    "ExecuteTime": {
     "end_time": "2020-12-18T14:52:28.021012Z",
     "start_time": "2020-12-18T14:52:28.018846Z"
    }
   },
   "outputs": [],
   "source": [
    "# You likely don't need this to be this long, but just in case.\n",
    "epochs = 1000\n",
    "\n",
    "# Just for visualizing average loss through time. \n",
    "loss_buffer_size = 100"
   ]
  },
  {
   "cell_type": "code",
   "execution_count": 24,
   "metadata": {
    "ExecuteTime": {
     "end_time": "2021-01-08T18:13:55.637349Z",
     "start_time": "2021-01-08T18:13:55.628922Z"
    }
   },
   "outputs": [],
   "source": [
    "import scipy.optimize as opt\n",
    "from deepsith import iSITH\n",
    "def min_fun(x, *args):\n",
    "    ntau = int(args[2])\n",
    "    k = int(x[0])\n",
    "    if k < 4 or k>125:\n",
    "        return np.inf\n",
    "    tau_min = args[0]\n",
    "    tau_max = args[1]    \n",
    "    ev = iSITH(tau_min=tau_min, tau_max=tau_max, buff_max=tau_max*5, k=k, ntau=ntau, dt=1, g=1.0)    \n",
    "    std_0 = ev.filters[:, 0, 0, :].detach().cpu().T.numpy()[::-1].sum(1)[int(tau_min):int(tau_max)].std()\n",
    "    std_1 = ev.filters[:, 0, 0, :].detach().cpu().T.numpy()[::-1, ::2].sum(1)[int(tau_min):int(tau_max)].std()    \n",
    "    to_min = std_0/std_1\n",
    "    return to_min"
   ]
  },
  {
   "cell_type": "code",
   "execution_count": 25,
   "metadata": {
    "ExecuteTime": {
     "end_time": "2021-01-08T18:30:07.604381Z",
     "start_time": "2021-01-08T18:30:07.434422Z"
    }
   },
   "outputs": [
    {
     "name": "stdout",
     "output_type": "stream",
     "text": [
      "   direc: array([[0.81910364]])\n",
      "     fun: 0.1347234\n",
      " message: 'Optimization terminated successfully.'\n",
      "    nfev: 80\n",
      "     nit: 2\n",
      "  status: 0\n",
      " success: True\n",
      "       x: array([17.00981707])\n",
      "ntau: 15 k: 17\n"
     ]
    },
    {
     "data": {
      "image/png": "[encoded data removed]",
      "text/plain": [
       "<Figure size 432x288 with 1 Axes>"
      ]
     },
     "metadata": {
      "needs_background": "light"
     },
     "output_type": "display_data"
    }
   ],
   "source": [
    "ntau_0 = 15\n",
    "k_0 = 20\n",
    "tau_min = 1.\n",
    "tau_max = 1200.\n",
    "res = opt.minimize(min_fun, [k_0], args=(tau_min, tau_max, ntau_0), \n",
    "                   #method='Nelder-Mead',\n",
    "                   method='Powell',\n",
    "                   #method='L-BFGS-B',\n",
    "                   #method='BFGS',\n",
    "                   #method='CG',\n",
    "                   #method='TNC',\n",
    "                   bounds=[(4, 125)]\n",
    "                  )\n",
    "print(res)\n",
    "ntau=ntau_0\n",
    "k = int(res.x)\n",
    "print('ntau:', ntau, 'k:', k)\n",
    "ev = iSITH(tau_min=tau_min, tau_max=tau_max, buff_max=tau_max*3, k=k, ntau=ntau, dt=1.0, g=1.0)\n",
    "plt.plot(ev.filters[:, 0, 0, :].detach().cpu().T.numpy()[::-1, ::2].sum(1),\n",
    "        linewidth=8, color='grey');\n",
    "plt.plot(ev.filters[:, 0, 0, :].detach().cpu().T.numpy()[::-1].sum(1),\n",
    "        linewidth=8, color='black');\n",
    "plt.plot(ev.filters[:, 0, 0, :].detach().cpu().T.numpy()[::-1],\n",
    "       );"
   ]
  },
  {
   "cell_type": "code",
   "execution_count": 26,
   "metadata": {
    "ExecuteTime": {
     "end_time": "2021-01-08T19:07:56.662330Z",
     "start_time": "2021-01-08T19:03:43.416503Z"
    }
   },
   "outputs": [
    {
     "name": "stdout",
     "output_type": "stream",
     "text": [
      "Total Weights: 56358\n"
     ]
    },
    {
     "data": {
      "application/vnd.jupyter.widget-view+json": {
       "model_id": "23f204fba962407c9ea33b33b51dbd53",
       "version_major": 2,
       "version_minor": 0
      },
      "text/plain": [
       "  0%|     | 0/60 [00:00<?, ?it/s]     "
      ]
     },
     "metadata": {},
     "output_type": "display_data"
    },
    {
     "name": "stdout",
     "output_type": "stream",
     "text": [
      "Total Weights: 56358\n"
     ]
    },
    {
     "data": {
      "application/vnd.jupyter.widget-view+json": {
       "model_id": "b52514c66781440080e194e4ebfe9784",
       "version_major": 2,
       "version_minor": 0
      },
      "text/plain": [
       "  0%|     | 0/60 [00:00<?, ?it/s]     "
      ]
     },
     "metadata": {},
     "output_type": "display_data"
    },
    {
     "name": "stdout",
     "output_type": "stream",
     "text": [
      "Total Weights: 56358\n"
     ]
    },
    {
     "data": {
      "application/vnd.jupyter.widget-view+json": {
       "model_id": "fcbd0dba6c9145aebb78a1f8aee0a20b",
       "version_major": 2,
       "version_minor": 0
      },
      "text/plain": [
       "  0%|     | 0/60 [00:00<?, ?it/s]     "
      ]
     },
     "metadata": {},
     "output_type": "display_data"
    },
    {
     "name": "stdout",
     "output_type": "stream",
     "text": [
      "Total Weights: 56358\n"
     ]
    },
    {
     "data": {
      "application/vnd.jupyter.widget-view+json": {
       "model_id": "0a8b727c91d6487d9e1194c037faf0c6",
       "version_major": 2,
       "version_minor": 0
      },
      "text/plain": [
       "  0%|     | 0/60 [00:00<?, ?it/s]     "
      ]
     },
     "metadata": {},
     "output_type": "display_data"
    },
    {
     "name": "stdout",
     "output_type": "stream",
     "text": [
      "Total Weights: 56358\n"
     ]
    },
    {
     "data": {
      "application/vnd.jupyter.widget-view+json": {
       "model_id": "c73de3f8c2e14c4881e84017a5a908c6",
       "version_major": 2,
       "version_minor": 0
      },
      "text/plain": [
       "  0%|     | 0/60 [00:00<?, ?it/s]     "
      ]
     },
     "metadata": {},
     "output_type": "display_data"
    },
    {
     "name": "stdout",
     "output_type": "stream",
     "text": [
      "Total Weights: 56358\n"
     ]
    },
    {
     "data": {
      "application/vnd.jupyter.widget-view+json": {
       "model_id": "e3843a7d28754ae38851aa2e91dfdddb",
       "version_major": 2,
       "version_minor": 0
      },
      "text/plain": [
       "  0%|     | 0/60 [00:00<?, ?it/s]     "
      ]
     },
     "metadata": {},
     "output_type": "display_data"
    }
   ],
   "source": [
    "test_noise_lengths = [6,7,9,13,21,37]\n",
    "for maxn in test_noise_lengths:\n",
    "    torch.manual_seed(12345)\n",
    "    np.random.seed(12345)\n",
    "    training_samples = 64\n",
    "    training_signals = []\n",
    "    training_class = []\n",
    "    for i, sig in enumerate(signals):\n",
    "        temp_signals = []\n",
    "        temp_class = []\n",
    "        for x in range(training_samples):\n",
    "            noise = ttype(generate_noise(maxn))\n",
    "            temp = torch.cat([sig[0,0], noise]).unsqueeze(0).unsqueeze(0).unsqueeze(0)\n",
    "            c=0\n",
    "            while(any([(temp == c_).all() for c_ in temp_signals])):\n",
    "                noise = ttype(generate_noise(maxn))\n",
    "                temp = torch.cat([sig[0,0], noise]).unsqueeze(0).unsqueeze(0).unsqueeze(0)\n",
    "                c += 1\n",
    "                if c == 100:\n",
    "                    1/0\n",
    "            temp_signals.append(temp)\n",
    "            temp_class.append(i)\n",
    "        training_signals.extend(temp_signals)\n",
    "        training_class.extend(temp_class)\n",
    "    batch_rand = torch.randperm(training_samples*signals.shape[0])        \n",
    "    training_signals = torch.cat(training_signals).cuda()[batch_rand]\n",
    "    training_class  = ctype(training_class).cuda()[batch_rand]\n",
    "    dataset = torch.utils.data.TensorDataset(training_signals, training_class)\n",
    "    dataset = torch.utils.data.DataLoader(dataset, batch_size=32, shuffle=True)\n",
    "    testing_samples = 16\n",
    "    testing_signals = []\n",
    "    testing_class = []\n",
    "    for i, sig in enumerate(signals):\n",
    "        temp_signals = []\n",
    "        temp_class = []\n",
    "        for x in range(testing_samples):\n",
    "            noise = ttype(generate_noise(maxn))\n",
    "            temp = torch.cat([sig[0,0], noise]).unsqueeze(0).unsqueeze(0).unsqueeze(0)\n",
    "            while(any([(temp == c_).all() for c_ in temp_signals]) or any([(temp == c_).all() for c_ in training_signals])):\n",
    "                noise = ttype(generate_noise(maxn))\n",
    "                temp = torch.cat([sig[0,0], noise]).unsqueeze(0).unsqueeze(0).unsqueeze(0)\n",
    "            temp_signals.append(temp)\n",
    "            temp_class.append(i)\n",
    "        testing_signals.extend(temp_signals)\n",
    "        testing_class.extend(temp_class)\n",
    "    batch_rand = torch.randperm(testing_samples*signals.shape[0])\n",
    "\n",
    "    testing_signals = torch.cat(testing_signals).cuda()[batch_rand]\n",
    "    testing_class  = ctype(testing_class)[batch_rand]\n",
    "\n",
    "\n",
    "    dataset_valid = torch.utils.data.TensorDataset(testing_signals, testing_class)\n",
    "    dataset_valid = torch.utils.data.DataLoader(dataset_valid, batch_size=32, shuffle=False)\n",
    "\n",
    "    sith_params1 = {\"in_features\":1, \n",
    "                    \"tau_min\":1, \"tau_max\":25.0, 'buff_max':40,\n",
    "                    \"k\":84, 'dt':1, \"ntau\":15, 'g':.0,  \n",
    "                    \"ttype\":ttype, 'batch_norm':True,\n",
    "                    \"hidden_size\":35, \"act_func\":nn.ReLU()\n",
    "                   }\n",
    "    sith_params2 = {\"in_features\":sith_params1['hidden_size'], \n",
    "                    \"tau_min\":1, \"tau_max\":100.0, 'buff_max':175,\n",
    "                    \"k\":40, 'dt':1, \"ntau\":15, 'g':.0, \n",
    "                    \"ttype\":ttype, 'batch_norm':True,\n",
    "                    \"hidden_size\":35, \"act_func\":nn.ReLU()\n",
    "                    }\n",
    "    sith_params3 = {\"in_features\":sith_params2['hidden_size'], \n",
    "                    \"tau_min\":1, \"tau_max\":400.0, 'buff_max':600,\n",
    "                    \"k\":23, 'dt':1, \"ntau\":15, 'g':.0, \n",
    "                    \"ttype\":ttype, 'batch_norm':True,\n",
    "                    \"hidden_size\":35, \"act_func\":nn.ReLU()\n",
    "                    }\n",
    "    sith_params4 = {\"in_features\":sith_params3['hidden_size'], \n",
    "                    \"tau_min\":1, \"tau_max\":1200.0, 'buff_max':2750,\n",
    "                    \"k\":17, 'dt':1, \"ntau\":15, 'g':.0, \n",
    "                    \"ttype\":ttype, 'batch_norm':True,\n",
    "                    \"hidden_size\":35, \"act_func\":nn.ReLU()\n",
    "                    }\n",
    "    layer_params = [sith_params1, sith_params2, sith_params3, sith_params4]\n",
    "    model = DeepSITH_Classifier(out_features=signals.shape[0],\n",
    "                                layer_params=layer_params, \n",
    "                                dropout=.2).cuda()\n",
    "    tot_weights = 0\n",
    "    for p in model.parameters():\n",
    "        tot_weights += p.numel()\n",
    "    print(\"Total Weights:\", tot_weights)\n",
    "    #print(model)\n",
    "\n",
    "    loss_func = torch.nn.CrossEntropyLoss()\n",
    "    optimizer = torch.optim.Adam(model.parameters(), lr=5e-3)\n",
    "    epochs = 60\n",
    "    batch_size = 32\n",
    "    progress_bar = tqdm(range(int(epochs)), bar_format='{l_bar}{bar:5}{r_bar}{bar:-5b}')\n",
    "\n",
    "    for e in progress_bar:\n",
    "        train(model, ttype, dataset, dataset_valid, \n",
    "              optimizer, loss_func, batch_size=batch_size,\n",
    "              epoch=e,\n",
    "              prog_bar=progress_bar, maxn=maxn)"
   ]
  }
 ],
 "metadata": {
  "kernelspec": {
   "display_name": "Python 3",
   "language": "python",
   "name": "python3"
  },
  "language_info": {
   "codemirror_mode": {
    "name": "ipython",
    "version": 3
   },
   "file_extension": ".py",
   "mimetype": "text/x-python",
   "name": "python",
   "nbconvert_exporter": "python",
   "pygments_lexer": "ipython3",
   "version": "3.9.7"
  },
  "toc": {
   "nav_menu": {},
   "number_sections": true,
   "sideBar": true,
   "skip_h1_title": false,
   "title_cell": "Table of Contents",
   "title_sidebar": "Contents",
   "toc_cell": false,
   "toc_position": {},
   "toc_section_display": true,
   "toc_window_display": false
  }
 },
 "nbformat": 4,
 "nbformat_minor": 4
}
