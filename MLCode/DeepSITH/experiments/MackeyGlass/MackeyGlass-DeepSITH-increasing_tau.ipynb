{
 "cells": [
  {
   "cell_type": "code",
   "execution_count": 1,
   "metadata": {
    "ExecuteTime": {
     "end_time": "2021-04-16T15:10:34.280995Z",
     "start_time": "2021-04-16T15:10:34.099264Z"
    }
   },
   "outputs": [],
   "source": [
    "%matplotlib inline\n"
   ]
  },
  {
   "cell_type": "code",
   "execution_count": 2,
   "metadata": {
    "ExecuteTime": {
     "end_time": "2021-04-16T15:10:34.999978Z",
     "start_time": "2021-04-16T15:10:34.333348Z"
    }
   },
   "outputs": [
    {
     "ename": "AttributeError",
     "evalue": "module 'time' has no attribute 'clock'",
     "output_type": "error",
     "traceback": [
      "\u001b[1;31m---------------------------------------------------------------------------\u001b[0m",
      "\u001b[1;31mAttributeError\u001b[0m                            Traceback (most recent call last)",
      "\u001b[1;32mg:\\My Drive\\Senior Research Project\\Code\\MLCode\\DeepSITH\\experiments\\MackeyGlass\\MackeyGlass-DeepSITH-increasing_tau.ipynb Cell 2'\u001b[0m in \u001b[0;36m<cell line: 4>\u001b[1;34m()\u001b[0m\n\u001b[0;32m      <a href='vscode-notebook-cell:/g%3A/My%20Drive/Senior%20Research%20Project/Code/MLCode/DeepSITH/experiments/MackeyGlass/MackeyGlass-DeepSITH-increasing_tau.ipynb#ch0000001?line=1'>2</a>\u001b[0m \u001b[39mimport\u001b[39;00m \u001b[39mmatplotlib\u001b[39;00m\u001b[39m.\u001b[39;00m\u001b[39mpyplot\u001b[39;00m \u001b[39mas\u001b[39;00m \u001b[39mplt\u001b[39;00m\n\u001b[0;32m      <a href='vscode-notebook-cell:/g%3A/My%20Drive/Senior%20Research%20Project/Code/MLCode/DeepSITH/experiments/MackeyGlass/MackeyGlass-DeepSITH-increasing_tau.ipynb#ch0000001?line=2'>3</a>\u001b[0m \u001b[39mimport\u001b[39;00m \u001b[39mtorchvision\u001b[39;00m\n\u001b[1;32m----> <a href='vscode-notebook-cell:/g%3A/My%20Drive/Senior%20Research%20Project/Code/MLCode/DeepSITH/experiments/MackeyGlass/MackeyGlass-DeepSITH-increasing_tau.ipynb#ch0000001?line=3'>4</a>\u001b[0m \u001b[39mimport\u001b[39;00m \u001b[39mnengolib\u001b[39;00m\n\u001b[0;32m      <a href='vscode-notebook-cell:/g%3A/My%20Drive/Senior%20Research%20Project/Code/MLCode/DeepSITH/experiments/MackeyGlass/MackeyGlass-DeepSITH-increasing_tau.ipynb#ch0000001?line=4'>5</a>\u001b[0m \u001b[39mimport\u001b[39;00m \u001b[39mnumpy\u001b[39;00m \u001b[39mas\u001b[39;00m \u001b[39mnp\u001b[39;00m\n\u001b[0;32m      <a href='vscode-notebook-cell:/g%3A/My%20Drive/Senior%20Research%20Project/Code/MLCode/DeepSITH/experiments/MackeyGlass/MackeyGlass-DeepSITH-increasing_tau.ipynb#ch0000001?line=5'>6</a>\u001b[0m \u001b[39mimport\u001b[39;00m \u001b[39mtorch\u001b[39;00m\u001b[39m.\u001b[39;00m\u001b[39mnn\u001b[39;00m \u001b[39mas\u001b[39;00m \u001b[39mnn\u001b[39;00m\n",
      "File \u001b[1;32m~\\AppData\\Local\\Programs\\Python\\Python39\\lib\\site-packages\\nengolib\\__init__.py:51\u001b[0m, in \u001b[0;36m<module>\u001b[1;34m\u001b[0m\n\u001b[0;32m      <a href='file:///c%3A/Users/Owner/AppData/Local/Programs/Python/Python39/lib/site-packages/nengolib/__init__.py?line=0'>1</a>\u001b[0m \u001b[39m\"\"\"\u001b[39;00m\n\u001b[0;32m      <a href='file:///c%3A/Users/Owner/AppData/Local/Programs/Python/Python39/lib/site-packages/nengolib/__init__.py?line=1'>2</a>\u001b[0m \u001b[39mMain (:mod:`nengolib`)\u001b[39;00m\n\u001b[0;32m      <a href='file:///c%3A/Users/Owner/AppData/Local/Programs/Python/Python39/lib/site-packages/nengolib/__init__.py?line=2'>3</a>\u001b[0m \u001b[39m======================\u001b[39;00m\n\u001b[1;32m   (...)\u001b[0m\n\u001b[0;32m     <a href='file:///c%3A/Users/Owner/AppData/Local/Programs/Python/Python39/lib/site-packages/nengolib/__init__.py?line=45'>46</a>\u001b[0m \u001b[39m   solvers.Temporal\u001b[39;00m\n\u001b[0;32m     <a href='file:///c%3A/Users/Owner/AppData/Local/Programs/Python/Python39/lib/site-packages/nengolib/__init__.py?line=46'>47</a>\u001b[0m \u001b[39m\"\"\"\u001b[39;00m\n\u001b[0;32m     <a href='file:///c%3A/Users/Owner/AppData/Local/Programs/Python/Python39/lib/site-packages/nengolib/__init__.py?line=48'>49</a>\u001b[0m \u001b[39mfrom\u001b[39;00m \u001b[39m.\u001b[39;00m\u001b[39mversion\u001b[39;00m \u001b[39mimport\u001b[39;00m version \u001b[39mas\u001b[39;00m __version__\n\u001b[1;32m---> <a href='file:///c%3A/Users/Owner/AppData/Local/Programs/Python/Python39/lib/site-packages/nengolib/__init__.py?line=50'>51</a>\u001b[0m \u001b[39mfrom\u001b[39;00m \u001b[39m.\u001b[39;00m\u001b[39mconnection\u001b[39;00m \u001b[39mimport\u001b[39;00m Connection\n\u001b[0;32m     <a href='file:///c%3A/Users/Owner/AppData/Local/Programs/Python/Python39/lib/site-packages/nengolib/__init__.py?line=51'>52</a>\u001b[0m \u001b[39mfrom\u001b[39;00m \u001b[39m.\u001b[39;00m\u001b[39mlearning\u001b[39;00m \u001b[39mimport\u001b[39;00m RLS\n\u001b[0;32m     <a href='file:///c%3A/Users/Owner/AppData/Local/Programs/Python/Python39/lib/site-packages/nengolib/__init__.py?line=52'>53</a>\u001b[0m \u001b[39mfrom\u001b[39;00m \u001b[39m.\u001b[39;00m\u001b[39mmonkeypatch\u001b[39;00m \u001b[39mimport\u001b[39;00m patch, unpatch\n",
      "File \u001b[1;32m~\\AppData\\Local\\Programs\\Python\\Python39\\lib\\site-packages\\nengolib\\connection.py:1\u001b[0m, in \u001b[0;36m<module>\u001b[1;34m\u001b[0m\n\u001b[1;32m----> <a href='file:///c%3A/Users/Owner/AppData/Local/Programs/Python/Python39/lib/site-packages/nengolib/connection.py?line=0'>1</a>\u001b[0m \u001b[39mimport\u001b[39;00m \u001b[39mnengo\u001b[39;00m\n\u001b[0;32m      <a href='file:///c%3A/Users/Owner/AppData/Local/Programs/Python/Python39/lib/site-packages/nengolib/connection.py?line=1'>2</a>\u001b[0m \u001b[39mfrom\u001b[39;00m \u001b[39mnengo\u001b[39;00m \u001b[39mimport\u001b[39;00m Connection \u001b[39mas\u001b[39;00m BaseConnection\n\u001b[0;32m      <a href='file:///c%3A/Users/Owner/AppData/Local/Programs/Python/Python39/lib/site-packages/nengolib/connection.py?line=2'>3</a>\u001b[0m \u001b[39mfrom\u001b[39;00m \u001b[39mnengo\u001b[39;00m\u001b[39m.\u001b[39;00m\u001b[39msolvers\u001b[39;00m \u001b[39mimport\u001b[39;00m LstsqL2\n",
      "File \u001b[1;32m~\\AppData\\Local\\Programs\\Python\\Python39\\lib\\site-packages\\nengo\\__init__.py:17\u001b[0m, in \u001b[0;36m<module>\u001b[1;34m\u001b[0m\n\u001b[0;32m     <a href='file:///c%3A/Users/Owner/AppData/Local/Programs/Python/Python39/lib/site-packages/nengo/__init__.py?line=13'>14</a>\u001b[0m \u001b[39mfrom\u001b[39;00m \u001b[39m.\u001b[39;00m\u001b[39mversion\u001b[39;00m \u001b[39mimport\u001b[39;00m version \u001b[39mas\u001b[39;00m __version__\n\u001b[0;32m     <a href='file:///c%3A/Users/Owner/AppData/Local/Programs/Python/Python39/lib/site-packages/nengo/__init__.py?line=15'>16</a>\u001b[0m \u001b[39m# Nengo namespace (API)\u001b[39;00m\n\u001b[1;32m---> <a href='file:///c%3A/Users/Owner/AppData/Local/Programs/Python/Python39/lib/site-packages/nengo/__init__.py?line=16'>17</a>\u001b[0m \u001b[39mfrom\u001b[39;00m \u001b[39m.\u001b[39;00m\u001b[39mbase\u001b[39;00m \u001b[39mimport\u001b[39;00m Process\n\u001b[0;32m     <a href='file:///c%3A/Users/Owner/AppData/Local/Programs/Python/Python39/lib/site-packages/nengo/__init__.py?line=17'>18</a>\u001b[0m \u001b[39mfrom\u001b[39;00m \u001b[39m.\u001b[39;00m\u001b[39mconfig\u001b[39;00m \u001b[39mimport\u001b[39;00m Config\n\u001b[0;32m     <a href='file:///c%3A/Users/Owner/AppData/Local/Programs/Python/Python39/lib/site-packages/nengo/__init__.py?line=18'>19</a>\u001b[0m \u001b[39mfrom\u001b[39;00m \u001b[39m.\u001b[39;00m\u001b[39mconnection\u001b[39;00m \u001b[39mimport\u001b[39;00m Connection\n",
      "File \u001b[1;32m~\\AppData\\Local\\Programs\\Python\\Python39\\lib\\site-packages\\nengo\\base.py:7\u001b[0m, in \u001b[0;36m<module>\u001b[1;34m\u001b[0m\n\u001b[0;32m      <a href='file:///c%3A/Users/Owner/AppData/Local/Programs/Python/Python39/lib/site-packages/nengo/base.py?line=3'>4</a>\u001b[0m \u001b[39mimport\u001b[39;00m \u001b[39mnumpy\u001b[39;00m \u001b[39mas\u001b[39;00m \u001b[39mnp\u001b[39;00m\n\u001b[0;32m      <a href='file:///c%3A/Users/Owner/AppData/Local/Programs/Python/Python39/lib/site-packages/nengo/base.py?line=5'>6</a>\u001b[0m \u001b[39mimport\u001b[39;00m \u001b[39mnengo\u001b[39;00m\n\u001b[1;32m----> <a href='file:///c%3A/Users/Owner/AppData/Local/Programs/Python/Python39/lib/site-packages/nengo/base.py?line=6'>7</a>\u001b[0m \u001b[39mfrom\u001b[39;00m \u001b[39mnengo\u001b[39;00m\u001b[39m.\u001b[39;00m\u001b[39mconfig\u001b[39;00m \u001b[39mimport\u001b[39;00m SupportDefaultsMixin\n\u001b[0;32m      <a href='file:///c%3A/Users/Owner/AppData/Local/Programs/Python/Python39/lib/site-packages/nengo/base.py?line=7'>8</a>\u001b[0m \u001b[39mfrom\u001b[39;00m \u001b[39mnengo\u001b[39;00m\u001b[39m.\u001b[39;00m\u001b[39mexceptions\u001b[39;00m \u001b[39mimport\u001b[39;00m NotAddedToNetworkWarning, ValidationError\n\u001b[0;32m      <a href='file:///c%3A/Users/Owner/AppData/Local/Programs/Python/Python39/lib/site-packages/nengo/base.py?line=8'>9</a>\u001b[0m \u001b[39mfrom\u001b[39;00m \u001b[39mnengo\u001b[39;00m\u001b[39m.\u001b[39;00m\u001b[39mparams\u001b[39;00m \u001b[39mimport\u001b[39;00m (\n\u001b[0;32m     <a href='file:///c%3A/Users/Owner/AppData/Local/Programs/Python/Python39/lib/site-packages/nengo/base.py?line=9'>10</a>\u001b[0m     FrozenObject,\n\u001b[0;32m     <a href='file:///c%3A/Users/Owner/AppData/Local/Programs/Python/Python39/lib/site-packages/nengo/base.py?line=10'>11</a>\u001b[0m     IntParam,\n\u001b[1;32m   (...)\u001b[0m\n\u001b[0;32m     <a href='file:///c%3A/Users/Owner/AppData/Local/Programs/Python/Python39/lib/site-packages/nengo/base.py?line=15'>16</a>\u001b[0m     Unconfigurable,\n\u001b[0;32m     <a href='file:///c%3A/Users/Owner/AppData/Local/Programs/Python/Python39/lib/site-packages/nengo/base.py?line=16'>17</a>\u001b[0m )\n",
      "File \u001b[1;32m~\\AppData\\Local\\Programs\\Python\\Python39\\lib\\site-packages\\nengo\\config.py:19\u001b[0m, in \u001b[0;36m<module>\u001b[1;34m\u001b[0m\n\u001b[0;32m     <a href='file:///c%3A/Users/Owner/AppData/Local/Programs/Python/Python39/lib/site-packages/nengo/config.py?line=15'>16</a>\u001b[0m \u001b[39mimport\u001b[39;00m \u001b[39msys\u001b[39;00m\n\u001b[0;32m     <a href='file:///c%3A/Users/Owner/AppData/Local/Programs/Python/Python39/lib/site-packages/nengo/config.py?line=17'>18</a>\u001b[0m \u001b[39mfrom\u001b[39;00m \u001b[39mnengo\u001b[39;00m\u001b[39m.\u001b[39;00m\u001b[39mexceptions\u001b[39;00m \u001b[39mimport\u001b[39;00m ConfigError, ValidationError\n\u001b[1;32m---> <a href='file:///c%3A/Users/Owner/AppData/Local/Programs/Python/Python39/lib/site-packages/nengo/config.py?line=18'>19</a>\u001b[0m \u001b[39mfrom\u001b[39;00m \u001b[39mnengo\u001b[39;00m\u001b[39m.\u001b[39;00m\u001b[39mparams\u001b[39;00m \u001b[39mimport\u001b[39;00m Default, is_param, iter_params\n\u001b[0;32m     <a href='file:///c%3A/Users/Owner/AppData/Local/Programs/Python/Python39/lib/site-packages/nengo/config.py?line=19'>20</a>\u001b[0m \u001b[39mfrom\u001b[39;00m \u001b[39mnengo\u001b[39;00m\u001b[39m.\u001b[39;00m\u001b[39mrc\u001b[39;00m \u001b[39mimport\u001b[39;00m rc\n\u001b[0;32m     <a href='file:///c%3A/Users/Owner/AppData/Local/Programs/Python/Python39/lib/site-packages/nengo/config.py?line=20'>21</a>\u001b[0m \u001b[39mfrom\u001b[39;00m \u001b[39mnengo\u001b[39;00m\u001b[39m.\u001b[39;00m\u001b[39mutils\u001b[39;00m\u001b[39m.\u001b[39;00m\u001b[39mcompat\u001b[39;00m \u001b[39mimport\u001b[39;00m itervalues, reraise\n",
      "File \u001b[1;32m~\\AppData\\Local\\Programs\\Python\\Python39\\lib\\site-packages\\nengo\\params.py:8\u001b[0m, in \u001b[0;36m<module>\u001b[1;34m\u001b[0m\n\u001b[0;32m      <a href='file:///c%3A/Users/Owner/AppData/Local/Programs/Python/Python39/lib/site-packages/nengo/params.py?line=3'>4</a>\u001b[0m \u001b[39mimport\u001b[39;00m \u001b[39mnumpy\u001b[39;00m \u001b[39mas\u001b[39;00m \u001b[39mnp\u001b[39;00m\n\u001b[0;32m      <a href='file:///c%3A/Users/Owner/AppData/Local/Programs/Python/Python39/lib/site-packages/nengo/params.py?line=5'>6</a>\u001b[0m \u001b[39mfrom\u001b[39;00m \u001b[39mnengo\u001b[39;00m\u001b[39m.\u001b[39;00m\u001b[39mexceptions\u001b[39;00m \u001b[39mimport\u001b[39;00m (\n\u001b[0;32m      <a href='file:///c%3A/Users/Owner/AppData/Local/Programs/Python/Python39/lib/site-packages/nengo/params.py?line=6'>7</a>\u001b[0m     ConfigError, ObsoleteError, ReadonlyError, ValidationError)\n\u001b[1;32m----> <a href='file:///c%3A/Users/Owner/AppData/Local/Programs/Python/Python39/lib/site-packages/nengo/params.py?line=7'>8</a>\u001b[0m \u001b[39mfrom\u001b[39;00m \u001b[39mnengo\u001b[39;00m\u001b[39m.\u001b[39;00m\u001b[39mutils\u001b[39;00m\u001b[39m.\u001b[39;00m\u001b[39mcompat\u001b[39;00m \u001b[39mimport\u001b[39;00m (int_types, is_array, is_array_like, is_integer,\n\u001b[0;32m      <a href='file:///c%3A/Users/Owner/AppData/Local/Programs/Python/Python39/lib/site-packages/nengo/params.py?line=8'>9</a>\u001b[0m                                 is_number, is_string, itervalues, string_types)\n\u001b[0;32m     <a href='file:///c%3A/Users/Owner/AppData/Local/Programs/Python/Python39/lib/site-packages/nengo/params.py?line=9'>10</a>\u001b[0m \u001b[39mfrom\u001b[39;00m \u001b[39mnengo\u001b[39;00m\u001b[39m.\u001b[39;00m\u001b[39mutils\u001b[39;00m\u001b[39m.\u001b[39;00m\u001b[39mnumpy\u001b[39;00m \u001b[39mimport\u001b[39;00m array_hash, compare\n\u001b[0;32m     <a href='file:///c%3A/Users/Owner/AppData/Local/Programs/Python/Python39/lib/site-packages/nengo/params.py?line=10'>11</a>\u001b[0m \u001b[39mfrom\u001b[39;00m \u001b[39mnengo\u001b[39;00m\u001b[39m.\u001b[39;00m\u001b[39mutils\u001b[39;00m\u001b[39m.\u001b[39;00m\u001b[39mstdlib\u001b[39;00m \u001b[39mimport\u001b[39;00m WeakKeyIDDictionary, checked_call\n",
      "File \u001b[1;32m~\\AppData\\Local\\Programs\\Python\\Python39\\lib\\site-packages\\nengo\\utils\\__init__.py:18\u001b[0m, in \u001b[0;36m<module>\u001b[1;34m\u001b[0m\n\u001b[0;32m     <a href='file:///c%3A/Users/Owner/AppData/Local/Programs/Python/Python39/lib/site-packages/nengo/utils/__init__.py?line=15'>16</a>\u001b[0m \u001b[39mfrom\u001b[39;00m \u001b[39m.\u001b[39;00m \u001b[39mimport\u001b[39;00m paths\n\u001b[0;32m     <a href='file:///c%3A/Users/Owner/AppData/Local/Programs/Python/Python39/lib/site-packages/nengo/utils/__init__.py?line=16'>17</a>\u001b[0m \u001b[39mfrom\u001b[39;00m \u001b[39m.\u001b[39;00m \u001b[39mimport\u001b[39;00m probe\n\u001b[1;32m---> <a href='file:///c%3A/Users/Owner/AppData/Local/Programs/Python/Python39/lib/site-packages/nengo/utils/__init__.py?line=17'>18</a>\u001b[0m \u001b[39mfrom\u001b[39;00m \u001b[39m.\u001b[39;00m \u001b[39mimport\u001b[39;00m simulator\n\u001b[0;32m     <a href='file:///c%3A/Users/Owner/AppData/Local/Programs/Python/Python39/lib/site-packages/nengo/utils/__init__.py?line=18'>19</a>\u001b[0m \u001b[39mfrom\u001b[39;00m \u001b[39m.\u001b[39;00m \u001b[39mimport\u001b[39;00m stdlib\n",
      "File \u001b[1;32m~\\AppData\\Local\\Programs\\Python\\Python39\\lib\\site-packages\\nengo\\utils\\simulator.py:6\u001b[0m, in \u001b[0;36m<module>\u001b[1;34m\u001b[0m\n\u001b[0;32m      <a href='file:///c%3A/Users/Owner/AppData/Local/Programs/Python/Python39/lib/site-packages/nengo/utils/simulator.py?line=3'>4</a>\u001b[0m \u001b[39mfrom\u001b[39;00m \u001b[39m.\u001b[39;00m\u001b[39mcompat\u001b[39;00m \u001b[39mimport\u001b[39;00m iteritems\n\u001b[0;32m      <a href='file:///c%3A/Users/Owner/AppData/Local/Programs/Python/Python39/lib/site-packages/nengo/utils/simulator.py?line=4'>5</a>\u001b[0m \u001b[39mfrom\u001b[39;00m \u001b[39m.\u001b[39;00m\u001b[39mgraphs\u001b[39;00m \u001b[39mimport\u001b[39;00m add_edges\n\u001b[1;32m----> <a href='file:///c%3A/Users/Owner/AppData/Local/Programs/Python/Python39/lib/site-packages/nengo/utils/simulator.py?line=5'>6</a>\u001b[0m \u001b[39mfrom\u001b[39;00m \u001b[39m.\u001b[39;00m\u001b[39mstdlib\u001b[39;00m \u001b[39mimport\u001b[39;00m groupby\n\u001b[0;32m      <a href='file:///c%3A/Users/Owner/AppData/Local/Programs/Python/Python39/lib/site-packages/nengo/utils/simulator.py?line=8'>9</a>\u001b[0m \u001b[39mdef\u001b[39;00m \u001b[39moperator_dependency_graph\u001b[39m(operators):  \u001b[39m# noqa: C901\u001b[39;00m\n\u001b[0;32m     <a href='file:///c%3A/Users/Owner/AppData/Local/Programs/Python/Python39/lib/site-packages/nengo/utils/simulator.py?line=9'>10</a>\u001b[0m     \u001b[39m# -- all views of a base object in a particular dictionary\u001b[39;00m\n\u001b[0;32m     <a href='file:///c%3A/Users/Owner/AppData/Local/Programs/Python/Python39/lib/site-packages/nengo/utils/simulator.py?line=10'>11</a>\u001b[0m     by_base_sets \u001b[39m=\u001b[39m defaultdict(\u001b[39mset\u001b[39m)\n",
      "File \u001b[1;32m~\\AppData\\Local\\Programs\\Python\\Python39\\lib\\site-packages\\nengo\\utils\\stdlib.py:282\u001b[0m, in \u001b[0;36m<module>\u001b[1;34m\u001b[0m\n\u001b[0;32m    <a href='file:///c%3A/Users/Owner/AppData/Local/Programs/Python/Python39/lib/site-packages/nengo/utils/stdlib.py?line=277'>278</a>\u001b[0m             \u001b[39mpass\u001b[39;00m\n\u001b[0;32m    <a href='file:///c%3A/Users/Owner/AppData/Local/Programs/Python/Python39/lib/site-packages/nengo/utils/stdlib.py?line=278'>279</a>\u001b[0m         \u001b[39mreturn\u001b[39;00m terminal_size(w, h)\n\u001b[1;32m--> <a href='file:///c%3A/Users/Owner/AppData/Local/Programs/Python/Python39/lib/site-packages/nengo/utils/stdlib.py?line=281'>282</a>\u001b[0m \u001b[39mclass\u001b[39;00m \u001b[39mTimer\u001b[39;00m(\u001b[39mobject\u001b[39m):\n\u001b[0;32m    <a href='file:///c%3A/Users/Owner/AppData/Local/Programs/Python/Python39/lib/site-packages/nengo/utils/stdlib.py?line=282'>283</a>\u001b[0m     \u001b[39m\"\"\"A context manager for timing a block of code.\u001b[39;00m\n\u001b[0;32m    <a href='file:///c%3A/Users/Owner/AppData/Local/Programs/Python/Python39/lib/site-packages/nengo/utils/stdlib.py?line=283'>284</a>\u001b[0m \n\u001b[0;32m    <a href='file:///c%3A/Users/Owner/AppData/Local/Programs/Python/Python39/lib/site-packages/nengo/utils/stdlib.py?line=284'>285</a>\u001b[0m \u001b[39m    Attributes\u001b[39;00m\n\u001b[1;32m   (...)\u001b[0m\n\u001b[0;32m    <a href='file:///c%3A/Users/Owner/AppData/Local/Programs/Python/Python39/lib/site-packages/nengo/utils/stdlib.py?line=299'>300</a>\u001b[0m \u001b[39m    >>> assert t.duration >= 1\u001b[39;00m\n\u001b[0;32m    <a href='file:///c%3A/Users/Owner/AppData/Local/Programs/Python/Python39/lib/site-packages/nengo/utils/stdlib.py?line=300'>301</a>\u001b[0m \u001b[39m    \"\"\"\u001b[39;00m\n\u001b[0;32m    <a href='file:///c%3A/Users/Owner/AppData/Local/Programs/Python/Python39/lib/site-packages/nengo/utils/stdlib.py?line=302'>303</a>\u001b[0m     TIMER \u001b[39m=\u001b[39m time\u001b[39m.\u001b[39mclock \u001b[39mif\u001b[39;00m sys\u001b[39m.\u001b[39mplatform \u001b[39m==\u001b[39m \u001b[39m\"\u001b[39m\u001b[39mwin32\u001b[39m\u001b[39m\"\u001b[39m \u001b[39melse\u001b[39;00m time\u001b[39m.\u001b[39mtime\n",
      "File \u001b[1;32m~\\AppData\\Local\\Programs\\Python\\Python39\\lib\\site-packages\\nengo\\utils\\stdlib.py:303\u001b[0m, in \u001b[0;36mTimer\u001b[1;34m()\u001b[0m\n\u001b[0;32m    <a href='file:///c%3A/Users/Owner/AppData/Local/Programs/Python/Python39/lib/site-packages/nengo/utils/stdlib.py?line=281'>282</a>\u001b[0m \u001b[39mclass\u001b[39;00m \u001b[39mTimer\u001b[39;00m(\u001b[39mobject\u001b[39m):\n\u001b[0;32m    <a href='file:///c%3A/Users/Owner/AppData/Local/Programs/Python/Python39/lib/site-packages/nengo/utils/stdlib.py?line=282'>283</a>\u001b[0m     \u001b[39m\"\"\"A context manager for timing a block of code.\u001b[39;00m\n\u001b[0;32m    <a href='file:///c%3A/Users/Owner/AppData/Local/Programs/Python/Python39/lib/site-packages/nengo/utils/stdlib.py?line=283'>284</a>\u001b[0m \n\u001b[0;32m    <a href='file:///c%3A/Users/Owner/AppData/Local/Programs/Python/Python39/lib/site-packages/nengo/utils/stdlib.py?line=284'>285</a>\u001b[0m \u001b[39m    Attributes\u001b[39;00m\n\u001b[1;32m   (...)\u001b[0m\n\u001b[0;32m    <a href='file:///c%3A/Users/Owner/AppData/Local/Programs/Python/Python39/lib/site-packages/nengo/utils/stdlib.py?line=299'>300</a>\u001b[0m \u001b[39m    >>> assert t.duration >= 1\u001b[39;00m\n\u001b[0;32m    <a href='file:///c%3A/Users/Owner/AppData/Local/Programs/Python/Python39/lib/site-packages/nengo/utils/stdlib.py?line=300'>301</a>\u001b[0m \u001b[39m    \"\"\"\u001b[39;00m\n\u001b[1;32m--> <a href='file:///c%3A/Users/Owner/AppData/Local/Programs/Python/Python39/lib/site-packages/nengo/utils/stdlib.py?line=302'>303</a>\u001b[0m     TIMER \u001b[39m=\u001b[39m time\u001b[39m.\u001b[39;49mclock \u001b[39mif\u001b[39;00m sys\u001b[39m.\u001b[39mplatform \u001b[39m==\u001b[39m \u001b[39m\"\u001b[39m\u001b[39mwin32\u001b[39m\u001b[39m\"\u001b[39m \u001b[39melse\u001b[39;00m time\u001b[39m.\u001b[39mtime\n\u001b[0;32m    <a href='file:///c%3A/Users/Owner/AppData/Local/Programs/Python/Python39/lib/site-packages/nengo/utils/stdlib.py?line=304'>305</a>\u001b[0m     \u001b[39mdef\u001b[39;00m \u001b[39m__init__\u001b[39m(\u001b[39mself\u001b[39m):\n\u001b[0;32m    <a href='file:///c%3A/Users/Owner/AppData/Local/Programs/Python/Python39/lib/site-packages/nengo/utils/stdlib.py?line=305'>306</a>\u001b[0m         \u001b[39mself\u001b[39m\u001b[39m.\u001b[39mstart \u001b[39m=\u001b[39m \u001b[39mNone\u001b[39;00m\n",
      "\u001b[1;31mAttributeError\u001b[0m: module 'time' has no attribute 'clock'"
     ]
    }
   ],
   "source": [
    "import torch\n",
    "import matplotlib.pyplot as plt\n",
    "import torchvision\n",
    "import nengolib\n",
    "import numpy as np\n",
    "import torch.nn as nn\n",
    "import torch.nn.functional as F\n",
    "from tqdm import tqdm_notebook\n",
    "from deepsith import DeepSITH\n",
    "import PIL\n",
    "from torch.nn.utils import weight_norm\n",
    "\n",
    "from os.path import join\n",
    "import scipy.special\n",
    "import pandas as pd\n",
    "import seaborn as sn\n",
    "import scipy\n",
    "from scipy.spatial.distance import euclidean\n",
    "from scipy.interpolate import interp1d\n",
    "from tqdm.notebook import tqdm\n",
    "import random\n",
    "from csv import DictWriter\n",
    "# if gpu is to be used\n",
    "use_cuda = torch.cuda.is_available()\n",
    "FloatTensor = torch.cuda.FloatTensor if use_cuda else torch.FloatTensor\n",
    "DoubleTensor = torch.cuda.DoubleTensor if use_cuda else torch.DoubleTensor\n",
    "\n",
    "IntTensor = torch.cuda.IntTensor if use_cuda else torch.IntTensor\n",
    "LongTensor = torch.cuda.LongTensor if use_cuda else torch.LongTensor\n",
    "ByteTensor = torch.cuda.ByteTensor if use_cuda else torch.ByteTensor\n",
    "ttype = FloatTensor\n",
    "\n",
    "import seaborn as sns\n",
    "print(use_cuda)\n",
    "import pickle\n"
   ]
  },
  {
   "cell_type": "markdown",
   "metadata": {},
   "source": [
    "# Load Stimuli"
   ]
  },
  {
   "cell_type": "code",
   "execution_count": null,
   "metadata": {
    "ExecuteTime": {
     "end_time": "2021-04-16T15:10:36.859945Z",
     "start_time": "2021-04-16T15:10:36.852930Z"
    }
   },
   "outputs": [],
   "source": [
    "import collections\n",
    "\n",
    "def mackey_glass(sample_len=1000, tau=17, delta_t=10, seed=None, n_samples=1):\n",
    "    # Adapted from https://github.com/mila-iqia/summerschool2015/blob/master/rnn_tutorial/synthetic.py\n",
    "    '''\n",
    "    mackey_glass(sample_len=1000, tau=17, seed = None, n_samples = 1) -> input\n",
    "    Generate the Mackey Glass time-series. Parameters are:\n",
    "        - sample_len: length of the time-series in timesteps. Default is 1000.\n",
    "        - tau: delay of the MG - system. Commonly used values are tau=17 (mild \n",
    "          chaos) and tau=30 (moderate chaos). Default is 17.\n",
    "        - seed: to seed the random generator, can be used to generate the same\n",
    "          timeseries at each invocation.\n",
    "        - n_samples : number of samples to generate\n",
    "    '''\n",
    "    history_len = tau * delta_t \n",
    "    # Initial conditions for the history of the system\n",
    "    timeseries = 1.2\n",
    "    \n",
    "    if seed is not None:\n",
    "        np.random.seed(seed)\n",
    "\n",
    "    samples = []\n",
    "\n",
    "    for _ in range(n_samples):\n",
    "        history = collections.deque(1.2 * np.ones(history_len) + 0.2 * \\\n",
    "                                    (np.random.rand(history_len) - 0.5))\n",
    "        # Preallocate the array for the time-series\n",
    "        inp = np.zeros((sample_len,1))\n",
    "        \n",
    "        for timestep in range(sample_len):\n",
    "            for _ in range(delta_t):\n",
    "                xtau = history.popleft()\n",
    "                history.append(timeseries)\n",
    "                timeseries = history[-1] + (0.2 * xtau / (1.0 + xtau ** 10) - \\\n",
    "                             0.1 * history[-1]) / delta_t\n",
    "            inp[timestep] = timeseries\n",
    "        \n",
    "        # Squash timeseries through tanh\n",
    "        inp = np.tanh(inp - 1)\n",
    "        samples.append(inp)\n",
    "    return samples\n",
    "\n",
    "\n",
    "def generate_data(n_batches, length, split=0.5, seed=0,\n",
    "                  predict_length=15, tau=17, washout=100, delta_t=1,\n",
    "                  center=True):\n",
    "    X = np.asarray(mackey_glass(\n",
    "        sample_len=length+predict_length+washout, tau=tau,\n",
    "        seed=seed, n_samples=n_batches))\n",
    "    X = X[:, washout:, :]\n",
    "    cutoff = int(split*n_batches)\n",
    "    if center:\n",
    "        X -= np.mean(X)  # global mean over all batches, approx -0.066\n",
    "    Y = X[:, predict_length:, :]\n",
    "    X = X[:, :-predict_length, :]\n",
    "    assert X.shape == Y.shape\n",
    "    return ((X[:cutoff], Y[:cutoff]),\n",
    "            (X[cutoff:], Y[cutoff:]))"
   ]
  },
  {
   "cell_type": "code",
   "execution_count": null,
   "metadata": {
    "ExecuteTime": {
     "end_time": "2021-04-16T15:10:38.927028Z",
     "start_time": "2021-04-16T15:10:37.026625Z"
    }
   },
   "outputs": [],
   "source": [
    "(train_X, train_Y), (test_X, test_Y) = generate_data(2, 5000)\n",
    "\n",
    "dataset = torch.utils.data.TensorDataset(torch.Tensor(train_X).cuda(), torch.Tensor(train_Y).cuda())\n",
    "dataset = torch.utils.data.DataLoader(dataset, batch_size=32, shuffle=True)\n",
    "\n",
    "dataset_valid = torch.utils.data.TensorDataset(torch.Tensor(test_X).cuda(), torch.Tensor(test_Y).cuda())\n",
    "dataset_valid = torch.utils.data.DataLoader(dataset_valid, batch_size=64, shuffle=False)\n"
   ]
  },
  {
   "cell_type": "markdown",
   "metadata": {},
   "source": [
    "## Setup for Model"
   ]
  },
  {
   "cell_type": "code",
   "execution_count": null,
   "metadata": {
    "ExecuteTime": {
     "end_time": "2021-04-16T15:10:39.071373Z",
     "start_time": "2021-04-16T15:10:39.063007Z"
    }
   },
   "outputs": [],
   "source": [
    "\n",
    "def train(model, ttype, train_loader, test_loader, optimizer, loss_func, epoch, \n",
    "          loss_buffer_size=800, batch_size=4, device='cuda',\n",
    "          prog_bar=None, tau=17, pred_len=15):\n",
    "    \n",
    "    assert(loss_buffer_size%batch_size==0)\n",
    "        \n",
    "    losses = []\n",
    "    last_test_perf = 0\n",
    "    best_test_perf = -1\n",
    "    \n",
    "    for batch_idx, (data, target) in enumerate(train_loader):\n",
    "        model.train()\n",
    "        data = data.to(device).view(data.shape[0],1,1,-1)\n",
    "        target = target.to(device)\n",
    "        optimizer.zero_grad()\n",
    "        out = model(data)\n",
    "        loss = loss_func(out,\n",
    "                         target)\n",
    "\n",
    "        loss.backward()\n",
    "        optimizer.step()\n",
    "\n",
    "        losses.append(loss.detach().cpu().numpy())\n",
    "        losses = losses[int(-loss_buffer_size/batch_size):]\n",
    "        \n",
    "        if ((batch_idx*batch_size)%loss_buffer_size == 0):\n",
    "            loss_track = {}\n",
    "            last_test_perf = test_model(model, 'cuda', test_loader, \n",
    "                                  )\n",
    "            loss_track['avg_loss'] = np.mean(losses)\n",
    "            loss_track['last_test'] = last_test_perf\n",
    "            loss_track['epoch'] = epoch\n",
    "            loss_track['batch_idx'] = batch_idx\n",
    "            loss_track['tau'] = tau\n",
    "            loss_track['pred_len'] = pred_len\n",
    "        if not (prog_bar is None):\n",
    "            # Update progress_bar\n",
    "            s = \"{}:{} Loss: {:.4f}, valid: {:.4f}\"\n",
    "            format_list = [e,batch_idx*batch_size, np.mean(losses), \n",
    "                           last_test_perf]         \n",
    "            s = s.format(*format_list)\n",
    "            prog_bar.set_description(s)\n",
    "                \n",
    "def test_model(model, device, test_loader):\n",
    "    # Test the Model\n",
    "    nrmsd = []\n",
    "    with torch.no_grad():\n",
    "        for x, y in test_loader:\n",
    "            data = x.to(device).view(x.shape[0],1,1,-1)\n",
    "            target = y.to(device)\n",
    "            optimizer.zero_grad()\n",
    "            out = model(data)\n",
    "            nrmsd.append(nengolib.signal.nrmse(out.detach().cpu().numpy().flatten(), \n",
    "                                               target=target.detach().cpu().numpy().flatten()))\n",
    "\n",
    "    perf = np.array(nrmsd).mean()\n",
    "    return perf"
   ]
  },
  {
   "cell_type": "code",
   "execution_count": null,
   "metadata": {
    "ExecuteTime": {
     "end_time": "2021-04-16T15:10:39.230440Z",
     "start_time": "2021-04-16T15:10:39.227260Z"
    }
   },
   "outputs": [],
   "source": [
    "class DeepSITH_Tracker(nn.Module):\n",
    "    def __init__(self, out, layer_params, dropout=.5):\n",
    "        super(DeepSITH_Tracker, self).__init__()\n",
    "        last_hidden = layer_params[-1]['hidden_size']\n",
    "        self.hs = DeepSITH(layer_params=layer_params, dropout=dropout)\n",
    "        self.to_out = nn.Linear(last_hidden, out)\n",
    "    def forward(self, inp):\n",
    "        x = self.hs(inp)\n",
    "        #x = torch.tanh(self.to_out(x))\n",
    "        x = self.to_out(x)\n",
    "        return x"
   ]
  },
  {
   "cell_type": "code",
   "execution_count": null,
   "metadata": {
    "ExecuteTime": {
     "end_time": "2021-04-16T15:11:06.128309Z",
     "start_time": "2021-04-16T15:10:59.478750Z"
    }
   },
   "outputs": [],
   "source": [
    "start_tau = 17\n",
    "start_pd = 15\n",
    "diffs = [1, 2, 3, 4, 5]\n",
    "for diff in diffs:\n",
    "    print(start_tau*diff, start_pd*diff)\n",
    "    (train_X, train_Y), (test_X, test_Y) = generate_data(128, 5000, \n",
    "                                                         tau=start_tau*diff, \n",
    "                                                         predict_length=start_pd*diff)\n",
    "\n",
    "    dataset = torch.utils.data.TensorDataset(torch.Tensor(train_X).cuda(), torch.Tensor(train_Y).cuda())\n",
    "    dataset = torch.utils.data.DataLoader(dataset, batch_size=32, shuffle=True)\n",
    "\n",
    "    dataset_valid = torch.utils.data.TensorDataset(torch.Tensor(test_X).cuda(), torch.Tensor(test_Y).cuda())\n",
    "    dataset_valid = torch.utils.data.DataLoader(dataset_valid, batch_size=64, shuffle=False)\n",
    "    \n",
    "    sith_params1 = {\"in_features\":1, \n",
    "                    \"tau_min\":1, \"tau_max\":25.0, \n",
    "                    \"k\":15, 'dt':1,\n",
    "                    \"ntau\":8, 'g':0.0,  \n",
    "                    \"ttype\":ttype, 'batch_norm':False,\n",
    "                    \"hidden_size\":25, \"act_func\":nn.ReLU()}\n",
    "    sith_params2 = {\"in_features\":sith_params1['hidden_size'], \n",
    "                    \"tau_min\":1, \"tau_max\":50.0, \n",
    "                    \"k\":8, 'dt':1,\n",
    "                    \"ntau\":8, 'g':0.0, \n",
    "                    \"ttype\":ttype, 'batch_norm':False,\n",
    "                    \"hidden_size\":25, \"act_func\":nn.ReLU()}\n",
    "    sith_params3 = {\"in_features\":sith_params2['hidden_size'], \n",
    "                    \"tau_min\":1, \"tau_max\":150.0, 'buff_max':600, \n",
    "                    \"k\":4, 'dt':1,\n",
    "                    \"ntau\":8, 'g':0.0, \n",
    "                    \"ttype\":ttype, 'batch_norm':False,\n",
    "                    \"hidden_size\":25, \"act_func\":nn.ReLU()}\n",
    "    layer_params = [sith_params1, sith_params2, sith_params3]\n",
    "\n",
    "    model = DeepSITH_Tracker(out=1,\n",
    "                             layer_params=layer_params, \n",
    "                             dropout=0.).cuda()\n",
    "    1/0\n",
    "    optimizer = torch.optim.Adam(model.parameters(), lr=.004)\n",
    "    loss_func = nn.MSELoss()\n",
    "\n",
    "    tot = 0\n",
    "    for p in model.parameters():\n",
    "        tot += p.numel()\n",
    "    print(\"tot_weights\", tot)\n",
    "    #print(model)\n",
    "    \n",
    "    epochs = 1000\n",
    "    batch_size = 32\n",
    "    progress_bar = tqdm(range(int(epochs)), bar_format='{l_bar}{bar:5}{r_bar}{bar:-5b}')\n",
    "    last_perf = 1000\n",
    "    for e in progress_bar:\n",
    "        train(model, ttype, dataset, dataset_valid, \n",
    "              optimizer, loss_func, batch_size=batch_size, loss_buffer_size=64,\n",
    "              epoch=e, perf_file=join('perf','mackeyglass_deepsith_ratio_1.csv'),\n",
    "              prog_bar=progress_bar, tau=start_tau*diff, pred_len=start_pd*diff)"
   ]
  }
 ],
 "metadata": {
  "kernelspec": {
   "display_name": "Python 3",
   "language": "python",
   "name": "python3"
  },
  "language_info": {
   "codemirror_mode": {
    "name": "ipython",
    "version": 3
   },
   "file_extension": ".py",
   "mimetype": "text/x-python",
   "name": "python",
   "nbconvert_exporter": "python",
   "pygments_lexer": "ipython3",
   "version": "3.9.7"
  },
  "toc": {
   "nav_menu": {},
   "number_sections": true,
   "sideBar": true,
   "skip_h1_title": false,
   "title_cell": "Table of Contents",
   "title_sidebar": "Contents",
   "toc_cell": false,
   "toc_position": {},
   "toc_section_display": true,
   "toc_window_display": false
  }
 },
 "nbformat": 4,
 "nbformat_minor": 4
}
