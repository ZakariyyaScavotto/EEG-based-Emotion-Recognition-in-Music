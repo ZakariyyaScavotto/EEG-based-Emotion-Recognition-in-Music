{
 "cells": [
  {
   "cell_type": "code",
   "execution_count": null,
   "metadata": {
    "ExecuteTime": {
     "end_time": "2020-12-15T17:01:06.036477Z",
     "start_time": "2020-12-15T17:01:05.842293Z"
    }
   },
   "outputs": [],
   "source": [
    "%matplotlib inline"
   ]
  },
  {
   "cell_type": "code",
   "execution_count": null,
   "metadata": {
    "ExecuteTime": {
     "end_time": "2020-12-15T17:01:06.655046Z",
     "start_time": "2020-12-15T17:01:06.090606Z"
    }
   },
   "outputs": [],
   "source": [
    "import matplotlib.pylab as plt\n",
    "import torch\n",
    "import numpy as np\n",
    "import seaborn as sn\n",
    "sn.set_context(\"poster\")\n",
    "import os\n",
    "import torch\n",
    "import torch.nn as nn\n",
    "import torch.nn.functional as F\n",
    "from torch.nn.utils import weight_norm\n",
    "from torchvision import transforms, datasets\n",
    "\n",
    "from deepsith import DeepSITH\n",
    "\n",
    "import numpy as np\n",
    "import scipy\n",
    "import scipy.stats as st\n",
    "import scipy.special\n",
    "import scipy.signal\n",
    "import scipy.interpolate\n",
    "\n",
    "import pandas as pd\n",
    "\n",
    "from os.path import join\n",
    "import random\n",
    "from csv import DictWriter\n",
    "\n",
    "from tqdm.notebook import tqdm\n",
    "import pickle\n",
    "# if gpu is to be used\n",
    "use_cuda = torch.cuda.is_available()\n",
    "print(use_cuda)\n",
    "FloatTensor = torch.cuda.FloatTensor if use_cuda else torch.FloatTensor\n",
    "DoubleTensor = torch.cuda.DoubleTensor if use_cuda else torch.DoubleTensor\n",
    "IntTensor = torch.cuda.IntTensor if use_cuda else torch.IntTensor\n",
    "LongTensor = torch.cuda.LongTensor if use_cuda else torch.LongTensor\n",
    "ByteTensor = torch.cuda.ByteTensor if use_cuda else torch.ByteTensor\n",
    "ttype = FloatTensor"
   ]
  },
  {
   "cell_type": "code",
   "execution_count": null,
   "metadata": {
    "ExecuteTime": {
     "end_time": "2020-12-15T17:01:06.661735Z",
     "start_time": "2020-12-15T17:01:06.656351Z"
    }
   },
   "outputs": [],
   "source": [
    "import torch\n",
    "import numpy as np\n",
    "\n",
    "def get_batch(batch_size, T, ttype):\n",
    "    values = torch.rand(T, batch_size, requires_grad=False)\n",
    "    indices = torch.zeros_like(values)\n",
    "    half = int(T / 2)\n",
    "    for i in range(batch_size):\n",
    "        half_1 = np.random.randint(half)\n",
    "        hals_2 = np.random.randint(half, T)\n",
    "        indices[half_1, i] = 1\n",
    "        indices[hals_2, i] = 1\n",
    "\n",
    "    data = torch.stack((values, indices), dim=-1).type(ttype)\n",
    "    targets = torch.mul(values, indices).sum(dim=0).type(ttype)\n",
    "    return data, targets\n"
   ]
  },
  {
   "cell_type": "code",
   "execution_count": null,
   "metadata": {
    "ExecuteTime": {
     "end_time": "2020-12-15T17:01:09.231546Z",
     "start_time": "2020-12-15T17:01:09.229034Z"
    }
   },
   "outputs": [],
   "source": [
    "torch.manual_seed(1111)"
   ]
  },
  {
   "cell_type": "code",
   "execution_count": null,
   "metadata": {
    "ExecuteTime": {
     "end_time": "2020-12-15T17:01:09.249505Z",
     "start_time": "2020-12-15T17:01:09.232698Z"
    }
   },
   "outputs": [],
   "source": [
    "def train(model, ttype, seq_length, optimizer, loss_func, \n",
    "          epoch, perf_file, loss_buffer_size=20, batch_size=1, test_size=10,\n",
    "          device='cuda', prog_bar=None):\n",
    "    assert(loss_buffer_size%batch_size==0)\n",
    "\n",
    "    losses = []\n",
    "    perfs = []\n",
    "    last_test_perf = 0\n",
    "    for batch_idx in range(20000):\n",
    "        model.train()\n",
    "        sig, target = get_batch(batch_size, seq_length, ttype=ttype)\n",
    "        \n",
    "        target = target.unsqueeze(1)\n",
    "        optimizer.zero_grad()\n",
    "        out = model(sig)\n",
    "        loss = loss_func(out[-1, :, :],\n",
    "                         target)\n",
    "         \n",
    "        loss.backward()\n",
    "        optimizer.step()\n",
    "\n",
    "        losses.append(loss.detach().cpu().numpy())\n",
    "        losses = losses[-loss_buffer_size:]\n",
    "        if not (prog_bar is None):\n",
    "            # Update progress_bar\n",
    "            s = \"{}:{} Loss: {:.8f}\"\n",
    "            format_list = [e, int(batch_idx/(50/batch_size)), np.mean(losses)]         \n",
    "            s = s.format(*format_list)\n",
    "            prog_bar.set_description(s)\n",
    "        if ((batch_idx*batch_size)%loss_buffer_size == 0) & (batch_idx != 0):\n",
    "            loss_track = {}\n",
    "            #last_test_perf = test_norm(model, 'cuda', test_sig, test_class,\n",
    "            #                                    batch_size=test_size, \n",
    "            #                                    )\n",
    "            loss_track['avg_loss'] = np.mean(losses)\n",
    "            #loss_track['last_test'] = last_test_perf\n",
    "            loss_track['epoch'] = epoch\n",
    "            loss_track['batch_idx'] = batch_idx\n",
    "            with open(perf_file, 'a+') as fp:\n",
    "                csv_writer = DictWriter(fp, fieldnames=list(loss_track.keys()))\n",
    "                if fp.tell() == 0:\n",
    "                    csv_writer.writeheader()\n",
    "                csv_writer.writerow(loss_track)\n",
    "                fp.flush()\n",
    "def test_norm(model, device, seq_length, loss_func, batch_size=100):\n",
    "    model.eval()\n",
    "    correct = 0\n",
    "    count = 0\n",
    "    with torch.no_grad():\n",
    "        sig, target = get_batch(batch_size, seq_length, ttype=ttype)\n",
    "        target = target.unsqueeze(1)\n",
    "        out = model(sig)\n",
    "        loss = loss_func(out[-1, :, :],\n",
    "                         target)\n",
    "    return loss"
   ]
  },
  {
   "cell_type": "code",
   "execution_count": null,
   "metadata": {
    "ExecuteTime": {
     "end_time": "2020-12-15T17:01:09.258255Z",
     "start_time": "2020-12-15T17:01:09.250462Z"
    }
   },
   "outputs": [],
   "source": [
    "class LSTM_Predictor(nn.Module):\n",
    "    def __init__(self, out_features, lstm_params):\n",
    "        super(LSTM_Predictor, self).__init__()\n",
    "        self.lstm = nn.LSTM(**lstm_params)\n",
    "        self.to_out = nn.Linear(lstm_params['hidden_size'], \n",
    "                                out_features)\n",
    "    def forward(self, inp):\n",
    "        x = self.lstm(inp)[0]\n",
    "        x = self.to_out(x)\n",
    "        return x"
   ]
  },
  {
   "cell_type": "markdown",
   "metadata": {},
   "source": [
    "# T = 100"
   ]
  },
  {
   "cell_type": "code",
   "execution_count": null,
   "metadata": {
    "ExecuteTime": {
     "end_time": "2020-12-15T17:01:23.033948Z",
     "start_time": "2020-12-15T17:01:23.026221Z"
    }
   },
   "outputs": [],
   "source": [
    "lstm_params = dict(input_size=2,\n",
    "                   hidden_size=128, \n",
    "                   num_layers=1)\n",
    "model = LSTM_Predictor(1, lstm_params=lstm_params).cuda()\n",
    "\n",
    "tot_weights = 0\n",
    "for p in model.parameters():\n",
    "    tot_weights += p.numel()\n",
    "print(\"Total Weights:\", tot_weights)\n",
    "print(model)"
   ]
  },
  {
   "cell_type": "code",
   "execution_count": null,
   "metadata": {
    "ExecuteTime": {
     "end_time": "2020-12-15T17:03:23.646330Z",
     "start_time": "2020-12-15T17:01:30.304957Z"
    }
   },
   "outputs": [],
   "source": [
    "seq_length=100\n",
    "\n",
    "loss_func = nn.MSELoss()\n",
    "optimizer = torch.optim.Adam(model.parameters())\n",
    "epochs = 1\n",
    "progress_bar = tqdm(range(int(epochs)), bar_format='{l_bar}{bar:5}{r_bar}{bar:-5b}')\n",
    "for e in progress_bar:\n",
    "    train(model, ttype, seq_length,\n",
    "          optimizer, loss_func, batch_size=50, loss_buffer_size=100,\n",
    "          epoch=e, perf_file=join('perf','adding100_lstm_1.csv'),\n",
    "          prog_bar=progress_bar)"
   ]
  },
  {
   "cell_type": "markdown",
   "metadata": {},
   "source": [
    "# T = 500"
   ]
  },
  {
   "cell_type": "code",
   "execution_count": null,
   "metadata": {
    "ExecuteTime": {
     "end_time": "2020-11-17T18:59:57.170037Z",
     "start_time": "2020-11-17T18:59:57.165816Z"
    }
   },
   "outputs": [],
   "source": [
    "lstm_params = dict(input_size=2,\n",
    "                   hidden_size=128, \n",
    "                   num_layers=1)\n",
    "model = LSTM_Predictor(1, lstm_params=lstm_params).cuda()\n",
    "\n",
    "tot_weights = 0\n",
    "for p in model.parameters():\n",
    "    tot_weights += p.numel()\n",
    "print(\"Total Weights:\", tot_weights)\n",
    "print(model)"
   ]
  },
  {
   "cell_type": "code",
   "execution_count": null,
   "metadata": {
    "ExecuteTime": {
     "end_time": "2020-11-17T19:06:41.299334Z",
     "start_time": "2020-11-17T19:00:01.467672Z"
    }
   },
   "outputs": [],
   "source": [
    "seq_length=500\n",
    "\n",
    "loss_func = nn.MSELoss()\n",
    "optimizer = torch.optim.Adam(model.parameters())\n",
    "epochs = 1\n",
    "progress_bar = tqdm(range(int(epochs)), bar_format='{l_bar}{bar:5}{r_bar}{bar:-5b}')\n",
    "for e in progress_bar:\n",
    "    train(model, ttype, seq_length,\n",
    "          optimizer, loss_func, batch_size=50, loss_buffer_size=100,\n",
    "          epoch=e, perf_file=join('perf','adding500_lstm_3.csv'),\n",
    "          prog_bar=progress_bar)"
   ]
  },
  {
   "cell_type": "markdown",
   "metadata": {},
   "source": [
    "# T = 2000"
   ]
  },
  {
   "cell_type": "code",
   "execution_count": null,
   "metadata": {
    "ExecuteTime": {
     "end_time": "2020-11-17T19:09:55.459792Z",
     "start_time": "2020-11-17T19:09:55.454074Z"
    }
   },
   "outputs": [],
   "source": [
    "lstm_params = dict(input_size=2,\n",
    "                   hidden_size=128, \n",
    "                   num_layers=1)\n",
    "model = LSTM_Predictor(1, lstm_params=lstm_params).cuda()\n",
    "\n",
    "tot_weights = 0\n",
    "for p in model.parameters():\n",
    "    tot_weights += p.numel()\n",
    "print(\"Total Weights:\", tot_weights)\n",
    "print(model)"
   ]
  },
  {
   "cell_type": "code",
   "execution_count": null,
   "metadata": {
    "ExecuteTime": {
     "end_time": "2020-11-17T19:33:57.545928Z",
     "start_time": "2020-11-17T19:10:03.115405Z"
    }
   },
   "outputs": [],
   "source": [
    "seq_length=2000\n",
    "\n",
    "loss_func = nn.MSELoss()\n",
    "optimizer = torch.optim.Adam(model.parameters())\n",
    "epochs = 1\n",
    "progress_bar = tqdm(range(int(epochs)), bar_format='{l_bar}{bar:5}{r_bar}{bar:-5b}')\n",
    "for e in progress_bar:\n",
    "    train(model, ttype, seq_length,\n",
    "          optimizer, loss_func, batch_size=50, loss_buffer_size=100,\n",
    "          epoch=e, perf_file=join('perf','adding2000_lstm_2.csv'),\n",
    "          prog_bar=progress_bar)"
   ]
  },
  {
   "cell_type": "markdown",
   "metadata": {},
   "source": [
    "#  T = 5000"
   ]
  },
  {
   "cell_type": "code",
   "execution_count": null,
   "metadata": {
    "ExecuteTime": {
     "end_time": "2020-11-17T19:33:57.551416Z",
     "start_time": "2020-11-17T19:33:57.546926Z"
    }
   },
   "outputs": [],
   "source": [
    "lstm_params = dict(input_size=2,\n",
    "                   hidden_size=128, \n",
    "                   num_layers=1)\n",
    "model = LSTM_Predictor(1, lstm_params=lstm_params).cuda()\n",
    "\n",
    "tot_weights = 0\n",
    "for p in model.parameters():\n",
    "    tot_weights += p.numel()\n",
    "print(\"Total Weights:\", tot_weights)\n",
    "print(model)"
   ]
  },
  {
   "cell_type": "code",
   "execution_count": null,
   "metadata": {
    "ExecuteTime": {
     "end_time": "2020-11-17T20:41:33.252877Z",
     "start_time": "2020-11-17T19:33:57.552380Z"
    }
   },
   "outputs": [],
   "source": [
    "seq_length=5000\n",
    "\n",
    "loss_func = nn.MSELoss()\n",
    "optimizer = torch.optim.Adam(model.parameters())\n",
    "epochs = 1\n",
    "progress_bar = tqdm(range(int(epochs)), bar_format='{l_bar}{bar:5}{r_bar}{bar:-5b}')\n",
    "for e in progress_bar:\n",
    "    train(model, ttype, seq_length,\n",
    "          optimizer, loss_func, batch_size=50, loss_buffer_size=100,\n",
    "          epoch=e, perf_file=join('perf','adding5000_lstm_1.csv'),\n",
    "          prog_bar=progress_bar)"
   ]
  },
  {
   "cell_type": "code",
   "execution_count": null,
   "metadata": {},
   "outputs": [],
   "source": []
  }
 ],
 "metadata": {
  "kernelspec": {
   "display_name": "Python 3",
   "language": "python",
   "name": "python3"
  },
  "language_info": {
   "codemirror_mode": {
    "name": "ipython",
    "version": 3
   },
   "file_extension": ".py",
   "mimetype": "text/x-python",
   "name": "python",
   "nbconvert_exporter": "python",
   "pygments_lexer": "ipython3",
   "version": "3.6.10"
  },
  "toc": {
   "nav_menu": {
    "height": "141px",
    "width": "160px"
   },
   "number_sections": true,
   "sideBar": true,
   "skip_h1_title": false,
   "title_cell": "Table of Contents",
   "title_sidebar": "Contents",
   "toc_cell": false,
   "toc_position": {},
   "toc_section_display": true,
   "toc_window_display": false
  }
 },
 "nbformat": 4,
 "nbformat_minor": 4
}
