{
 "cells": [
  {
   "cell_type": "code",
   "execution_count": 37,
   "metadata": {
    "ExecuteTime": {
     "end_time": "2020-12-03T16:57:39.184101Z",
     "start_time": "2020-12-03T16:57:38.997252Z"
    }
   },
   "outputs": [],
   "source": [
    "%matplotlib inline\n"
   ]
  },
  {
   "cell_type": "code",
   "execution_count": 38,
   "metadata": {
    "ExecuteTime": {
     "end_time": "2020-12-05T18:29:47.565802Z",
     "start_time": "2020-12-05T18:29:47.560378Z"
    }
   },
   "outputs": [
    {
     "name": "stdout",
     "output_type": "stream",
     "text": [
      "True\n"
     ]
    }
   ],
   "source": [
    "import matplotlib.pyplot as plt\n",
    "from torch.optim.lr_scheduler import StepLR\n",
    "import torch\n",
    "from sklearn.metrics import confusion_matrix\n",
    "import pandas as pd\n",
    "import numpy as np\n",
    "\n",
    "import torch.nn as nn\n",
    "\n",
    "from tqdm import tqdm_notebook\n",
    "\n",
    "from torchvision import transforms\n",
    "from torchvision import datasets\n",
    "from os.path import join\n",
    "\n",
    "from deepsith import DeepSITH\n",
    "\n",
    "from tqdm.notebook import tqdm\n",
    "\n",
    "import random\n",
    "\n",
    "from csv import DictWriter\n",
    "# if gpu is to be used\n",
    "use_cuda = torch.cuda.is_available()\n",
    "\n",
    "FloatTensor = torch.cuda.FloatTensor if use_cuda else torch.FloatTensor\n",
    "LongTensor = torch.cuda.LongTensor if use_cuda else torch.LongTensor\n",
    "\n",
    "ttype =FloatTensor\n",
    "\n",
    "import seaborn as sn\n",
    "print(use_cuda)\n",
    "import pickle\n",
    "\n",
    "sn.set_context(\"poster\")"
   ]
  },
  {
   "cell_type": "code",
   "execution_count": 39,
   "metadata": {
    "ExecuteTime": {
     "end_time": "2020-12-03T16:57:40.061632Z",
     "start_time": "2020-12-03T16:57:40.058700Z"
    }
   },
   "outputs": [],
   "source": [
    "class DeepSITH_Classifier(nn.Module):\n",
    "    def __init__(self, out_features, layer_params, dropout=.1):\n",
    "        super(DeepSITH_Classifier, self).__init__()\n",
    "        last_hidden = layer_params[-1]['hidden_size']\n",
    "        self.hs = DeepSITH(layer_params=layer_params, dropout=dropout)\n",
    "        self.to_out = nn.Linear(last_hidden, out_features)\n",
    "    def forward(self, inp):\n",
    "        x = self.hs(inp)\n",
    "        x = self.to_out(x)\n",
    "        return x"
   ]
  },
  {
   "cell_type": "markdown",
   "metadata": {},
   "source": [
    "# Load Stimuli"
   ]
  },
  {
   "cell_type": "code",
   "execution_count": 40,
   "metadata": {
    "ExecuteTime": {
     "end_time": "2020-12-03T16:57:41.468289Z",
     "start_time": "2020-12-03T16:57:41.465864Z"
    }
   },
   "outputs": [],
   "source": [
    "# Same seed and supposed Permutation as the coRNN paper\n",
    "torch.manual_seed(12008)\n",
    "permute = torch.randperm(784)"
   ]
  },
  {
   "cell_type": "code",
   "execution_count": 41,
   "metadata": {
    "ExecuteTime": {
     "end_time": "2020-12-03T16:57:42.535384Z",
     "start_time": "2020-12-03T16:57:42.527542Z"
    }
   },
   "outputs": [
    {
     "name": "stdout",
     "output_type": "stream",
     "text": [
      "tensor([ 91,  97, 471, 426, 157, 451, 312, 198, 117, 454, 357, 608, 711, 417,\n",
      "         22, 498, 207, 252,  18, 541, 697, 437, 777, 208, 294, 173, 449, 141,\n",
      "        515, 524, 648, 490, 724,  56, 635, 531, 696,   7, 116, 547,  31, 263,\n",
      "        421,  54, 647, 314, 380, 187, 520, 733,  93, 201, 528, 147, 710, 352,\n",
      "        681, 175, 580, 229, 383,  40, 403, 253, 572, 172,  30, 672, 286, 545,\n",
      "         16, 379, 196, 737, 592, 759, 607, 124,  24, 485, 632,  98, 119, 533,\n",
      "        698, 258, 716,  68, 742, 156, 539, 521, 234, 653, 587, 553, 422, 615,\n",
      "        365, 668, 491, 448, 188, 743, 164, 750, 158, 675, 612, 367,  55, 105,\n",
      "        594, 411, 713, 557,  13, 638, 765, 764, 180, 336, 107, 755, 165, 275,\n",
      "        574, 598, 492, 465, 373, 374, 516, 645, 543, 302, 102, 625, 486, 353,\n",
      "        658,  45, 651, 622, 661,  63, 100, 634,   1, 566, 407, 559, 425, 311,\n",
      "        214,  49,  69, 548, 261, 186, 649, 287, 295,  67, 205,  41, 640, 611,\n",
      "        555,  61, 386, 690, 266, 167,  82, 741, 650, 211, 413, 701, 685, 112,\n",
      "        212, 434, 160, 479, 597, 244, 217,  50, 363,  19, 154, 169, 688,   3,\n",
      "        460, 171, 322, 185, 600, 674, 398, 562,  44,  86, 321, 122, 138, 428,\n",
      "        223, 464, 269, 715, 228, 329,  26, 248, 522, 517, 183, 347, 623, 288,\n",
      "        282, 429, 104, 511, 249, 221, 780, 132, 705, 619, 613, 113, 436, 488,\n",
      "        412, 204, 628, 195,  42, 546, 382, 396, 728, 614, 279, 216, 586, 330,\n",
      "        364, 444, 725, 708, 782, 558,  87, 700,  79, 633, 134, 361, 378, 149,\n",
      "        756, 775, 585, 127, 189, 624, 459, 556, 719, 527, 508, 389, 239, 182,\n",
      "        305,  71, 502, 462, 588,  76, 754, 549, 717, 660, 746, 161, 206, 433,\n",
      "        467,  12, 142,  17, 120, 734, 376, 409, 181, 348,  35, 466, 664, 277,\n",
      "        657, 530, 505, 535, 772,  46, 372, 761, 703, 438,   8, 676, 563, 445,\n",
      "        177, 678, 744, 264, 721, 114, 308, 730, 778, 617, 238, 669, 254, 662,\n",
      "         38, 714, 200, 626, 110, 474, 359, 450, 210, 631, 523, 687, 394, 513,\n",
      "        760,  43, 316,  28,  73, 430, 457, 699,  70, 415, 213, 276, 589, 654,\n",
      "         37, 493, 144, 720,  52, 126, 387, 584, 155, 179, 694, 153, 416, 224,\n",
      "        176, 241, 405, 458, 712,  11, 250,  47, 334, 749, 327, 476,   5, 618,\n",
      "        174, 381,  48,  85, 344, 106, 349, 346,  74,  51, 203, 538,  32, 300,\n",
      "        536,  60, 152,  75, 220, 369, 518, 709, 281, 461, 419, 135, 375,  78,\n",
      "        666, 781,  34, 232, 534, 487, 293, 472, 443, 554,  53,  94,  29, 636,\n",
      "        391, 193, 641,  84, 325, 463, 289, 475, 191, 270, 354, 401, 133, 273,\n",
      "        452, 544, 306, 763, 519, 256, 427, 495, 145,  20, 251, 583, 478, 324,\n",
      "        384, 399, 202, 393, 679, 225, 340, 317, 689, 410, 655, 499, 439, 593,\n",
      "        776, 727,  59, 146, 677, 423,  72, 143, 507, 307, 332, 366, 550, 692,\n",
      "        291, 355, 194, 590, 773,  66, 260, 319, 525,  58, 578,  27, 246, 729,\n",
      "         92, 686, 732, 168, 268, 442,  89, 303, 247, 262, 245,  62, 704, 747,\n",
      "        739, 560, 140, 310, 278, 178, 190, 482, 385, 722, 767, 274, 362, 351,\n",
      "        315, 663, 111, 740, 501, 481, 551, 667, 343, 532, 774, 670, 404, 494,\n",
      "        243, 570, 602, 726,  65, 537, 468, 643, 630, 565, 236, 151, 377, 441,\n",
      "        163, 659,  21, 265,  77, 435, 496, 596, 529, 337, 230,   4, 455, 259,\n",
      "        284,  83,  57,  36, 358, 192, 601, 693, 497, 227, 392, 646, 356, 103,\n",
      "        397, 420, 591, 738, 209, 271, 680, 509, 771, 170, 440, 540, 671, 280,\n",
      "        561, 581, 101, 526, 504, 115, 510,  64, 298, 446, 109, 309, 395,  81,\n",
      "        606, 627, 603, 299, 137, 748, 656, 130,  25, 237, 757, 470, 290,   9,\n",
      "        150, 197, 166, 758, 783, 599, 682,  39, 707,  96, 489, 571, 762, 620,\n",
      "        718, 604, 770, 333, 233, 131, 313, 424, 418, 148,   0,  14, 226,   2,\n",
      "        331, 222, 469, 753, 723, 388, 406, 301, 272, 616, 371, 779, 159, 473,\n",
      "        283, 215, 408, 335, 128, 605,  90, 484, 683, 506, 431, 769, 573,  80,\n",
      "         99, 512, 595, 136, 766, 609,  10, 483, 400, 569, 184, 390, 323, 751,\n",
      "        402, 731, 567, 125, 328,  15, 642, 752, 255, 235, 339, 338, 447, 575,\n",
      "        564, 342, 695, 139, 735, 121, 240, 304, 414, 477, 706, 503, 162, 610,\n",
      "        118, 297, 745, 320, 345, 691,  23, 702, 579,  88, 644, 242, 199, 341,\n",
      "        257, 673, 684, 582, 231, 370, 500, 360, 453, 108,   6, 368, 637, 629,\n",
      "         95, 621, 219, 326, 514, 768, 665, 652, 576, 350, 480, 542, 639, 285,\n",
      "        577, 123, 218, 568, 552, 129,  33, 736, 318, 456, 292, 432, 296, 267])\n"
     ]
    }
   ],
   "source": [
    "print(permute)"
   ]
  },
  {
   "cell_type": "code",
   "execution_count": 42,
   "metadata": {
    "ExecuteTime": {
     "end_time": "2020-12-03T16:57:45.892964Z",
     "start_time": "2020-12-03T16:57:45.890797Z"
    }
   },
   "outputs": [],
   "source": [
    "norm = transforms.Normalize((.1307,), (.3081,), )"
   ]
  },
  {
   "cell_type": "code",
   "execution_count": 43,
   "metadata": {
    "ExecuteTime": {
     "end_time": "2020-12-03T16:57:46.269650Z",
     "start_time": "2020-12-03T16:57:46.255928Z"
    }
   },
   "outputs": [],
   "source": [
    "batch_size = 64\n",
    "transform = transforms.Compose([transforms.ToTensor(),\n",
    "                                transforms.Normalize((.1307,), (.3081,))\n",
    "                               ])\n",
    "ds1 = datasets.MNIST('../data', train=True, download=True, transform=transform)\n",
    "ds2 = datasets.MNIST('../data', train=False, download=True, transform=transform)\n",
    "train_loader=torch.utils.data.DataLoader(ds1,batch_size=batch_size, \n",
    "                                         num_workers=1, pin_memory=True, shuffle=True)\n",
    "test_loader=torch.utils.data.DataLoader(ds2, batch_size=batch_size, \n",
    "                                        num_workers=1, pin_memory=True, shuffle=True)"
   ]
  },
  {
   "cell_type": "code",
   "execution_count": 44,
   "metadata": {
    "ExecuteTime": {
     "end_time": "2020-12-03T16:57:51.113709Z",
     "start_time": "2020-12-03T16:57:47.283835Z"
    }
   },
   "outputs": [
    {
     "data": {
      "text/plain": [
       "<matplotlib.colorbar.Colorbar at 0x284505409d0>"
      ]
     },
     "execution_count": 44,
     "metadata": {},
     "output_type": "execute_result"
    },
    {
     "data": {
      "image/png": "[encoded data removed]",
      "text/plain": [
       "<Figure size 432x288 with 2 Axes>"
      ]
     },
     "metadata": {
      "needs_background": "light"
     },
     "output_type": "display_data"
    }
   ],
   "source": [
    "testi = next(iter(test_loader))[0]\n",
    "\n",
    "plt.imshow(testi[0].reshape(-1)[permute].reshape(28,28))\n",
    "\n",
    "plt.colorbar()"
   ]
  },
  {
   "cell_type": "code",
   "execution_count": 45,
   "metadata": {
    "ExecuteTime": {
     "end_time": "2020-12-03T16:57:51.164838Z",
     "start_time": "2020-12-03T16:57:51.162192Z"
    }
   },
   "outputs": [
    {
     "data": {
      "text/plain": [
       "torch.Size([64, 1, 28, 28])"
      ]
     },
     "execution_count": 45,
     "metadata": {},
     "output_type": "execute_result"
    }
   ],
   "source": [
    "testi.shape"
   ]
  },
  {
   "cell_type": "markdown",
   "metadata": {},
   "source": [
    "# Define test and train"
   ]
  },
  {
   "cell_type": "code",
   "execution_count": 46,
   "metadata": {
    "ExecuteTime": {
     "end_time": "2020-12-04T15:09:47.998604Z",
     "start_time": "2020-12-04T15:09:47.988228Z"
    }
   },
   "outputs": [],
   "source": [
    "\n",
    "def train(model, ttype, train_loader, test_loader, optimizer, loss_func, epoch, \n",
    "          permute=None, loss_buffer_size=800, batch_size=4, device='cuda',\n",
    "          prog_bar=None):\n",
    "    \n",
    "    assert(loss_buffer_size%batch_size==0)\n",
    "    if permute is None:\n",
    "        permute = torch.LongTensor(list(range(784)))\n",
    "        \n",
    "    losses = []\n",
    "    perfs = []\n",
    "    last_test_perf = 0\n",
    "    best_test_perf = -1\n",
    "    \n",
    "    for batch_idx, (data, target) in enumerate(train_loader):\n",
    "        model.train()\n",
    "        data = data.to(device).view(data.shape[0],1,1,-1)\n",
    "        target = target.to(device)\n",
    "        optimizer.zero_grad()\n",
    "        out = model(data[:, :, :, permute])\n",
    "        loss = loss_func(out[:, -1, :],\n",
    "                         target)\n",
    "\n",
    "        loss.backward()\n",
    "        optimizer.step()\n",
    "\n",
    "        perfs.append((torch.argmax(out[:, -1, :], dim=-1) == \n",
    "                      target).sum().item())\n",
    "        perfs = perfs[int(-loss_buffer_size/batch_size):]\n",
    "        losses.append(loss.detach().cpu().numpy())\n",
    "        losses = losses[int(-loss_buffer_size/batch_size):]\n",
    "        if not (prog_bar is None):\n",
    "            # Update progress_bar\n",
    "            s = \"{}:{} Loss: {:.4f}, perf: {:.4f}, valid: {:.4f}\"\n",
    "            format_list = [e,batch_idx*batch_size, np.mean(losses), \n",
    "                           np.sum(perfs)/((len(perfs))*batch_size), last_test_perf]         \n",
    "            s = s.format(*format_list)\n",
    "            prog_bar.set_description(s)\n",
    "        \n",
    "        if ((batch_idx*batch_size)%loss_buffer_size == 0) & (batch_idx != 0):\n",
    "            loss_track = {}\n",
    "            # last_test_perf = test(model, 'cuda', test_loader, \n",
    "            #                       batch_size=batch_size, \n",
    "            #                       permute=permute)\n",
    "            loss_track['avg_loss'] = np.mean(losses)\n",
    "            #loss_track['last_test'] = last_test_perf\n",
    "            loss_track['epoch'] = epoch\n",
    "            loss_track['batch_idx'] = batch_idx\n",
    "            loss_track['train_perf']= np.sum(perfs)/((len(perfs))*batch_size)\n",
    "            \n",
    "            #if best_test_perf < last_test_perf:\n",
    "            #    torch.save(model.state_dict(), perf_file[:-4]+\".pt\")\n",
    "            #    best_test_perf = last_test_perf\n",
    "\n",
    "                \n",
    "def test(model, device, test_loader, batch_size=4, permute=None):\n",
    "    if permute is None:\n",
    "        permute = torch.LongTensor(list(range(784)))\n",
    "        \n",
    "    model.eval()\n",
    "    correct = 0\n",
    "    count = 0\n",
    "    with torch.no_grad():\n",
    "        for data, target in test_loader:\n",
    "            data = data.to(device).view(data.shape[0],1,1,-1)\n",
    "            target = target.to(device)\n",
    "            \n",
    "            out = model(data[:,:,:, permute])\n",
    "            pred = out[:, -1].argmax(dim=-1, keepdim=True)\n",
    "            correct += pred.eq(target.view_as(pred)).sum().item()\n",
    "            count += 1\n",
    "    return correct / len(test_loader.dataset)"
   ]
  },
  {
   "cell_type": "markdown",
   "metadata": {},
   "source": [
    "# Setup the model"
   ]
  },
  {
   "cell_type": "code",
   "execution_count": 47,
   "metadata": {
    "ExecuteTime": {
     "end_time": "2020-12-04T15:09:48.936759Z",
     "start_time": "2020-12-04T15:09:48.926780Z"
    },
    "scrolled": true
   },
   "outputs": [
    {
     "name": "stdout",
     "output_type": "stream",
     "text": [
      "Total Weights: 146350\n",
      "DeepSITH_Classifier(\n",
      "  (hs): DeepSITH(\n",
      "    (layers): ModuleList(\n",
      "      (0): _DeepSITH_core(\n",
      "        (sith): iSITH(ntau=20, tau_min=1, tau_max=30.0, buff_max=50, dt=1, k=125, g=0.0)\n",
      "        (linear): Linear(in_features=20, out_features=60, bias=True)\n",
      "        (act_func): ReLU()\n",
      "        (dense_bn): BatchNorm1d(60, eps=1e-05, momentum=0.1, affine=True, track_running_stats=True)\n",
      "      )\n",
      "      (1): _DeepSITH_core(\n",
      "        (sith): iSITH(ntau=20, tau_min=1, tau_max=150.0, buff_max=250, dt=1, k=61, g=0.0)\n",
      "        (linear): Linear(in_features=1200, out_features=60, bias=True)\n",
      "        (act_func): ReLU()\n",
      "        (dense_bn): BatchNorm1d(60, eps=1e-05, momentum=0.1, affine=True, track_running_stats=True)\n",
      "      )\n",
      "      (2): _DeepSITH_core(\n",
      "        (sith): iSITH(ntau=20, tau_min=1, tau_max=750.0, buff_max=1500, dt=1, k=35, g=0.0)\n",
      "        (linear): Linear(in_features=1200, out_features=60, bias=True)\n",
      "        (act_func): ReLU()\n",
      "        (dense_bn): BatchNorm1d(60, eps=1e-05, momentum=0.1, affine=True, track_running_stats=True)\n",
      "      )\n",
      "    )\n",
      "    (dropouts): ModuleList(\n",
      "      (0): Dropout(p=0.2, inplace=False)\n",
      "      (1): Dropout(p=0.2, inplace=False)\n",
      "    )\n",
      "  )\n",
      "  (to_out): Linear(in_features=60, out_features=10, bias=True)\n",
      ")\n"
     ]
    }
   ],
   "source": [
    "g = 0.0\n",
    "sith_params1 = {\"in_features\":1, \n",
    "                \"tau_min\":1, \"tau_max\":30.0, \"buff_max\":50,\n",
    "                \"k\":125, 'dt':1,\n",
    "                \"ntau\":20, 'g':g,  \n",
    "                \"ttype\":ttype, \"batch_norm\":True,\n",
    "                \"hidden_size\":60, \"act_func\":nn.ReLU()\n",
    "               }\n",
    "sith_params2 = {\"in_features\":sith_params1['hidden_size'], \n",
    "                \"tau_min\":1, \"tau_max\":150.0, \"buff_max\":250,\n",
    "                \"k\":61, 'dt':1,\n",
    "                \"ntau\":20, 'g':g, \n",
    "                \"ttype\":ttype, \"batch_norm\":True,\n",
    "                \"hidden_size\":60, \"act_func\":nn.ReLU()\n",
    "                }\n",
    "sith_params3 = {\"in_features\":sith_params2['hidden_size'], \n",
    "                \"tau_min\":1, \"tau_max\":750.0, \"buff_max\":1500,\n",
    "                \"k\":35, 'dt':1,\n",
    "                \"ntau\":20, 'g':g, \n",
    "                \"ttype\":ttype, \"batch_norm\":True,\n",
    "                \"hidden_size\":60, \"act_func\":nn.ReLU()\n",
    "                }\n",
    "\n",
    "\n",
    "\n",
    "layer_params = [sith_params1, sith_params2, sith_params3]\n",
    "\n",
    "\n",
    "model = DeepSITH_Classifier(10,\n",
    "                           layer_params=layer_params, \n",
    "                           dropout=0.2).cuda()\n",
    "\n",
    "tot_weights = 0\n",
    "for p in model.parameters():\n",
    "    tot_weights += p.numel()\n",
    "print(\"Total Weights:\", tot_weights)\n",
    "print(model)"
   ]
  },
  {
   "cell_type": "code",
   "execution_count": 48,
   "metadata": {
    "ExecuteTime": {
     "end_time": "2020-12-05T00:17:49.489853Z",
     "start_time": "2020-12-04T15:09:54.978362Z"
    },
    "scrolled": true
   },
   "outputs": [
    {
     "data": {
      "application/vnd.jupyter.widget-view+json": {
       "model_id": "b0e952ab579e49f5a6bba2fc889d197e",
       "version_major": 2,
       "version_minor": 0
      },
      "text/plain": [
       "  0%|     | 0/90 [00:00<?, ?it/s]     "
      ]
     },
     "metadata": {},
     "output_type": "display_data"
    },
    {
     "ename": "KeyboardInterrupt",
     "evalue": "",
     "output_type": "error",
     "traceback": [
      "\u001b[1;31m---------------------------------------------------------------------------\u001b[0m",
      "\u001b[1;31mKeyboardInterrupt\u001b[0m                         Traceback (most recent call last)",
      "\u001b[1;32mg:\\My Drive\\Senior Research Project\\Code\\MLCode\\DeepSITH\\experiments\\psMNIST\\psMNIST.ipynb Cell 15'\u001b[0m in \u001b[0;36m<cell line: 7>\u001b[1;34m()\u001b[0m\n\u001b[0;32m      <a href='vscode-notebook-cell:/g%3A/My%20Drive/Senior%20Research%20Project/Code/MLCode/DeepSITH/experiments/psMNIST/psMNIST.ipynb#ch0000014?line=5'>6</a>\u001b[0m test_perf \u001b[39m=\u001b[39m []\n\u001b[0;32m      <a href='vscode-notebook-cell:/g%3A/My%20Drive/Senior%20Research%20Project/Code/MLCode/DeepSITH/experiments/psMNIST/psMNIST.ipynb#ch0000014?line=6'>7</a>\u001b[0m \u001b[39mfor\u001b[39;00m e \u001b[39min\u001b[39;00m progress_bar:\n\u001b[1;32m----> <a href='vscode-notebook-cell:/g%3A/My%20Drive/Senior%20Research%20Project/Code/MLCode/DeepSITH/experiments/psMNIST/psMNIST.ipynb#ch0000014?line=7'>8</a>\u001b[0m     train(model, ttype, train_loader, test_loader, optimizer, loss_func, batch_size\u001b[39m=\u001b[39;49mbatch_size,\n\u001b[0;32m      <a href='vscode-notebook-cell:/g%3A/My%20Drive/Senior%20Research%20Project/Code/MLCode/DeepSITH/experiments/psMNIST/psMNIST.ipynb#ch0000014?line=8'>9</a>\u001b[0m           epoch\u001b[39m=\u001b[39;49me, loss_buffer_size\u001b[39m=\u001b[39;49m\u001b[39m64\u001b[39;49m\u001b[39m*\u001b[39;49m\u001b[39m32\u001b[39;49m, \n\u001b[0;32m     <a href='vscode-notebook-cell:/g%3A/My%20Drive/Senior%20Research%20Project/Code/MLCode/DeepSITH/experiments/psMNIST/psMNIST.ipynb#ch0000014?line=9'>10</a>\u001b[0m           prog_bar\u001b[39m=\u001b[39;49mprogress_bar, permute\u001b[39m=\u001b[39;49mpermute)\n\u001b[0;32m     <a href='vscode-notebook-cell:/g%3A/My%20Drive/Senior%20Research%20Project/Code/MLCode/DeepSITH/experiments/psMNIST/psMNIST.ipynb#ch0000014?line=10'>11</a>\u001b[0m     last_test_perf \u001b[39m=\u001b[39m test(model, \u001b[39m'\u001b[39m\u001b[39mcuda\u001b[39m\u001b[39m'\u001b[39m, test_loader, \n\u001b[0;32m     <a href='vscode-notebook-cell:/g%3A/My%20Drive/Senior%20Research%20Project/Code/MLCode/DeepSITH/experiments/psMNIST/psMNIST.ipynb#ch0000014?line=11'>12</a>\u001b[0m                                   batch_size\u001b[39m=\u001b[39mbatch_size, \n\u001b[0;32m     <a href='vscode-notebook-cell:/g%3A/My%20Drive/Senior%20Research%20Project/Code/MLCode/DeepSITH/experiments/psMNIST/psMNIST.ipynb#ch0000014?line=12'>13</a>\u001b[0m                                   permute\u001b[39m=\u001b[39mpermute)\n\u001b[0;32m     <a href='vscode-notebook-cell:/g%3A/My%20Drive/Senior%20Research%20Project/Code/MLCode/DeepSITH/experiments/psMNIST/psMNIST.ipynb#ch0000014?line=13'>14</a>\u001b[0m     test_perf\u001b[39m.\u001b[39mappend({\u001b[39m\"\u001b[39m\u001b[39mepoch\u001b[39m\u001b[39m\"\u001b[39m:e,\n\u001b[0;32m     <a href='vscode-notebook-cell:/g%3A/My%20Drive/Senior%20Research%20Project/Code/MLCode/DeepSITH/experiments/psMNIST/psMNIST.ipynb#ch0000014?line=14'>15</a>\u001b[0m                       \u001b[39m'\u001b[39m\u001b[39mtest\u001b[39m\u001b[39m'\u001b[39m:last_test_perf})\n",
      "\u001b[1;32mg:\\My Drive\\Senior Research Project\\Code\\MLCode\\DeepSITH\\experiments\\psMNIST\\psMNIST.ipynb Cell 12'\u001b[0m in \u001b[0;36mtrain\u001b[1;34m(model, ttype, train_loader, test_loader, optimizer, loss_func, epoch, permute, loss_buffer_size, batch_size, device, prog_bar)\u001b[0m\n\u001b[0;32m     <a href='vscode-notebook-cell:/g%3A/My%20Drive/Senior%20Research%20Project/Code/MLCode/DeepSITH/experiments/psMNIST/psMNIST.ipynb#ch0000011?line=22'>23</a>\u001b[0m loss\u001b[39m.\u001b[39mbackward()\n\u001b[0;32m     <a href='vscode-notebook-cell:/g%3A/My%20Drive/Senior%20Research%20Project/Code/MLCode/DeepSITH/experiments/psMNIST/psMNIST.ipynb#ch0000011?line=23'>24</a>\u001b[0m optimizer\u001b[39m.\u001b[39mstep()\n\u001b[1;32m---> <a href='vscode-notebook-cell:/g%3A/My%20Drive/Senior%20Research%20Project/Code/MLCode/DeepSITH/experiments/psMNIST/psMNIST.ipynb#ch0000011?line=25'>26</a>\u001b[0m perfs\u001b[39m.\u001b[39mappend((torch\u001b[39m.\u001b[39;49margmax(out[:, \u001b[39m-\u001b[39;49m\u001b[39m1\u001b[39;49m, :], dim\u001b[39m=\u001b[39;49m\u001b[39m-\u001b[39;49m\u001b[39m1\u001b[39;49m) \u001b[39m==\u001b[39;49m \n\u001b[0;32m     <a href='vscode-notebook-cell:/g%3A/My%20Drive/Senior%20Research%20Project/Code/MLCode/DeepSITH/experiments/psMNIST/psMNIST.ipynb#ch0000011?line=26'>27</a>\u001b[0m               target)\u001b[39m.\u001b[39;49msum()\u001b[39m.\u001b[39;49mitem())\n\u001b[0;32m     <a href='vscode-notebook-cell:/g%3A/My%20Drive/Senior%20Research%20Project/Code/MLCode/DeepSITH/experiments/psMNIST/psMNIST.ipynb#ch0000011?line=27'>28</a>\u001b[0m perfs \u001b[39m=\u001b[39m perfs[\u001b[39mint\u001b[39m(\u001b[39m-\u001b[39mloss_buffer_size\u001b[39m/\u001b[39mbatch_size):]\n\u001b[0;32m     <a href='vscode-notebook-cell:/g%3A/My%20Drive/Senior%20Research%20Project/Code/MLCode/DeepSITH/experiments/psMNIST/psMNIST.ipynb#ch0000011?line=28'>29</a>\u001b[0m losses\u001b[39m.\u001b[39mappend(loss\u001b[39m.\u001b[39mdetach()\u001b[39m.\u001b[39mcpu()\u001b[39m.\u001b[39mnumpy())\n",
      "\u001b[1;31mKeyboardInterrupt\u001b[0m: "
     ]
    }
   ],
   "source": [
    "epochs = 90\n",
    "loss_func = nn.CrossEntropyLoss()\n",
    "optimizer = torch.optim.Adam(model.parameters(), lr=2e-3)\n",
    "sched = StepLR(optimizer, step_size=30, gamma=0.1)\n",
    "progress_bar = tqdm(range(int(epochs)), bar_format='{l_bar}{bar:5}{r_bar}{bar:-5b}')\n",
    "test_perf = []\n",
    "for e in progress_bar:\n",
    "    train(model, ttype, train_loader, test_loader, optimizer, loss_func, batch_size=batch_size,\n",
    "          epoch=e, loss_buffer_size=64*32, \n",
    "          prog_bar=progress_bar, permute=permute)\n",
    "    last_test_perf = test(model, 'cuda', test_loader, \n",
    "                                  batch_size=batch_size, \n",
    "                                  permute=permute)\n",
    "    test_perf.append({\"epoch\":e,\n",
    "                      'test':last_test_perf})\n",
    "    sched.step()"
   ]
  },
  {
   "cell_type": "markdown",
   "metadata": {
    "ExecuteTime": {
     "end_time": "2020-11-02T01:31:22.277851Z",
     "start_time": "2020-11-02T01:31:22.275272Z"
    }
   },
   "source": [
    "# Find Errors"
   ]
  },
  {
   "cell_type": "code",
   "execution_count": null,
   "metadata": {
    "ExecuteTime": {
     "end_time": "2020-12-05T00:26:42.879054Z",
     "start_time": "2020-12-05T00:26:29.019237Z"
    }
   },
   "outputs": [],
   "source": [
    "test(model, 'cuda', test_loader, \n",
    "     batch_size=batch_size, \n",
    "     permute=permute)"
   ]
  },
  {
   "cell_type": "code",
   "execution_count": null,
   "metadata": {
    "ExecuteTime": {
     "end_time": "2020-11-10T14:51:23.948941Z",
     "start_time": "2020-11-10T14:51:23.944246Z"
    }
   },
   "outputs": [],
   "source": [
    "def conf_mat_gen(model, device, test_loader, batch_size=4, permute=None):\n",
    "    if permute is None:\n",
    "        permute = torch.LongTensor(list(range(784)))\n",
    "    evals = {'pred':[],\n",
    "             'actual':[]}\n",
    "    model.eval()\n",
    "    correct = 0\n",
    "    count = 0\n",
    "    with torch.no_grad():\n",
    "        for data, target in test_loader:\n",
    "            data = data.to(device).view(data.shape[0],1,1,-1)\n",
    "            target = target.to(device)\n",
    "            for x in target:\n",
    "                evals['actual'].append(x.detach().cpu().numpy())\n",
    "            out = model(data[:,:,:, permute])\n",
    "            for x in out[:, -1].argmax(dim=-1, keepdim=True):\n",
    "                evals['pred'].append(x.detach().cpu().numpy())\n",
    "    return evals"
   ]
  },
  {
   "cell_type": "code",
   "execution_count": null,
   "metadata": {
    "ExecuteTime": {
     "end_time": "2020-11-10T14:51:36.918179Z",
     "start_time": "2020-11-10T14:51:25.179622Z"
    }
   },
   "outputs": [],
   "source": [
    "evals = conf_mat_gen(model, 'cuda', test_loader, batch_size=4, permute=permute)"
   ]
  },
  {
   "cell_type": "code",
   "execution_count": null,
   "metadata": {
    "ExecuteTime": {
     "end_time": "2020-11-10T14:53:19.261434Z",
     "start_time": "2020-11-10T14:53:18.926905Z"
    }
   },
   "outputs": [],
   "source": [
    "fig = plt.figure(figsize=(10,11))\n",
    "plt.imshow(confusion_matrix(np.array(evals['pred'])[:, 0], \n",
    "                            np.array(evals['actual'])), cmap='coolwarm')\n",
    "plt.colorbar()\n",
    "plt.xticks(list(range(10)));\n",
    "plt.yticks(list(range(10)));\n",
    "plt.savefig(join('figs', 'sMNIST_LoLa_conf'), dpi=200, bboxinches='tight')"
   ]
  }
 ],
 "metadata": {
  "kernelspec": {
   "display_name": "Python 3",
   "language": "python",
   "name": "python3"
  },
  "language_info": {
   "codemirror_mode": {
    "name": "ipython",
    "version": 3
   },
   "file_extension": ".py",
   "mimetype": "text/x-python",
   "name": "python",
   "nbconvert_exporter": "python",
   "pygments_lexer": "ipython3",
   "version": "3.9.7"
  },
  "toc": {
   "nav_menu": {},
   "number_sections": true,
   "sideBar": true,
   "skip_h1_title": false,
   "title_cell": "Table of Contents",
   "title_sidebar": "Contents",
   "toc_cell": false,
   "toc_position": {},
   "toc_section_display": true,
   "toc_window_display": false
  }
 },
 "nbformat": 4,
 "nbformat_minor": 4
}
